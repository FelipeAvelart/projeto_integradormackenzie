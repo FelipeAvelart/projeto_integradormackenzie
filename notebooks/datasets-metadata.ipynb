{
 "cells": [
  {
   "cell_type": "markdown",
   "metadata": {},
   "source": [
    "# Exploring the data"
   ]
  },
  {
   "cell_type": "markdown",
   "metadata": {},
   "source": [
    "### Indíce\n",
    "1. [Introdução](#introducao)\n",
    "2. [Importando as dependências](#importando-as-dependências)\n",
    "3. [Importando os datasets](#importando-os-datasets)\n",
    "4. [Ativos e demitidos](#ativos-e-demitidos)\n",
    "5. [Movimentações](#movimentações)\n",
    "6. [Certificações](#certificações)\n",
    "7. [Entrevistas](#entrevistas)"
   ]
  },
  {
   "cell_type": "markdown",
   "metadata": {},
   "source": [
    "### Introdução"
   ]
  },
  {
   "cell_type": "markdown",
   "metadata": {},
   "source": [
    "Estamos lidando com 4 datasets diferentes:\n",
    "\n",
    "- **SRA Ativo e Demitidos**: Tabela com a lista de funcionários ativos e desligados\n",
    "- **Movimentações**: listando as promoções das pessoas ao longo do período\n",
    "- **Certificações**: tabela com a adição de novas certificações ao perfil dos funcionários conforme vão as adquirindo\n",
    "- **Entrevistas**: tabela com dados das entrevistas demessionais conduzidas com funcionários que pedem para ser desligados da companhia\n",
    "\n",
    "Abaixo iremos explorar melhor o que compõe cada dataset."
   ]
  },
  {
   "cell_type": "markdown",
   "metadata": {},
   "source": [
    "### Importando as dependências"
   ]
  },
  {
   "cell_type": "code",
   "execution_count": 1,
   "metadata": {},
   "outputs": [],
   "source": [
    "import pandas as pd\n",
    "import numpy as np"
   ]
  },
  {
   "cell_type": "markdown",
   "metadata": {},
   "source": [
    "### Importando os datasets"
   ]
  },
  {
   "cell_type": "code",
   "execution_count": 3,
   "metadata": {},
   "outputs": [],
   "source": [
    "sra = pd.read_excel(\"../data/SRA Ativo e Demitidos envio.xlsx\")\n",
    "movimentacoes = pd.read_excel(\"../data/Movimentações.xlsx\")\n",
    "certificacoes = pd.read_excel(\"../data/Certificacoes.xlsx\")\n",
    "entrevistas = pd.read_excel(\"../data/Entrevistas.xlsx\")"
   ]
  },
  {
   "cell_type": "markdown",
   "metadata": {},
   "source": [
    "### Ativos e Demitidos"
   ]
  },
  {
   "cell_type": "markdown",
   "metadata": {},
   "source": [
    "Qual o aspecto geral do `DataFrame`?"
   ]
  },
  {
   "cell_type": "code",
   "execution_count": 20,
   "metadata": {},
   "outputs": [
    {
     "data": {
      "text/html": [
       "<div>\n",
       "<style scoped>\n",
       "    .dataframe tbody tr th:only-of-type {\n",
       "        vertical-align: middle;\n",
       "    }\n",
       "\n",
       "    .dataframe tbody tr th {\n",
       "        vertical-align: top;\n",
       "    }\n",
       "\n",
       "    .dataframe thead th {\n",
       "        text-align: right;\n",
       "    }\n",
       "</style>\n",
       "<table border=\"1\" class=\"dataframe\">\n",
       "  <thead>\n",
       "    <tr style=\"text-align: right;\">\n",
       "      <th></th>\n",
       "      <th>FILIAL</th>\n",
       "      <th>DESC.FIL</th>\n",
       "      <th>MATRICULA</th>\n",
       "      <th>CENTRO DE CUSTO</th>\n",
       "      <th>FUNCAO</th>\n",
       "      <th>ADMISSAO</th>\n",
       "      <th>DEMISSAO</th>\n",
       "      <th>IDADE</th>\n",
       "      <th>SEXO</th>\n",
       "      <th>EST.CIVIL</th>\n",
       "      <th>...</th>\n",
       "      <th>SIT. FOLHA</th>\n",
       "      <th>SALARIO</th>\n",
       "      <th>ESTADO</th>\n",
       "      <th>DIRETOR</th>\n",
       "      <th>HOME</th>\n",
       "      <th>TIPO DEMISSÃO</th>\n",
       "      <th>TIPO_RES</th>\n",
       "      <th>DESCR_RECISAO</th>\n",
       "      <th>COD_TO</th>\n",
       "      <th>MOTIVO TO</th>\n",
       "    </tr>\n",
       "  </thead>\n",
       "  <tbody>\n",
       "    <tr>\n",
       "      <th>0</th>\n",
       "      <td>5</td>\n",
       "      <td>CANDELARIA II</td>\n",
       "      <td>168186</td>\n",
       "      <td>1001230253</td>\n",
       "      <td>921</td>\n",
       "      <td>2011-11-07</td>\n",
       "      <td>2022-01-07 00:00:00</td>\n",
       "      <td>53</td>\n",
       "      <td>M</td>\n",
       "      <td>SOLTEIRO(A)</td>\n",
       "      <td>...</td>\n",
       "      <td>D</td>\n",
       "      <td>4237.57</td>\n",
       "      <td>RJ</td>\n",
       "      <td>CLOUD PORTIFOLIO</td>\n",
       "      <td>FULL</td>\n",
       "      <td>PROVOCADO</td>\n",
       "      <td>3.0</td>\n",
       "      <td>DISPENSA SEM JUSTA CAUSA (API)</td>\n",
       "      <td>NaN</td>\n",
       "      <td>NaN</td>\n",
       "    </tr>\n",
       "    <tr>\n",
       "      <th>1</th>\n",
       "      <td>5</td>\n",
       "      <td>CANDELARIA II</td>\n",
       "      <td>236946</td>\n",
       "      <td>1061532281</td>\n",
       "      <td>201</td>\n",
       "      <td>2014-02-05</td>\n",
       "      <td>2022-01-07 00:00:00</td>\n",
       "      <td>38</td>\n",
       "      <td>M</td>\n",
       "      <td>SOLTEIRO(A)</td>\n",
       "      <td>...</td>\n",
       "      <td>D</td>\n",
       "      <td>5598.72</td>\n",
       "      <td>RJ</td>\n",
       "      <td>CLOUD PORTIFOLIO</td>\n",
       "      <td>FULL</td>\n",
       "      <td>VOLUNTARIO</td>\n",
       "      <td>5.0</td>\n",
       "      <td>PEDIDO DE DEMISSAO</td>\n",
       "      <td>NaN</td>\n",
       "      <td>NaN</td>\n",
       "    </tr>\n",
       "    <tr>\n",
       "      <th>2</th>\n",
       "      <td>5</td>\n",
       "      <td>CANDELARIA II</td>\n",
       "      <td>265449</td>\n",
       "      <td>1001230220</td>\n",
       "      <td>604</td>\n",
       "      <td>2011-05-02</td>\n",
       "      <td>2022-01-03 00:00:00</td>\n",
       "      <td>35</td>\n",
       "      <td>M</td>\n",
       "      <td>CASADO(A)</td>\n",
       "      <td>...</td>\n",
       "      <td>D</td>\n",
       "      <td>15623.47</td>\n",
       "      <td>RJ</td>\n",
       "      <td>CLIENTE E SALES</td>\n",
       "      <td>FULL</td>\n",
       "      <td>VOLUNTARIO</td>\n",
       "      <td>5.0</td>\n",
       "      <td>PEDIDO DE DEMISSAO</td>\n",
       "      <td>NaN</td>\n",
       "      <td>NaN</td>\n",
       "    </tr>\n",
       "    <tr>\n",
       "      <th>3</th>\n",
       "      <td>5</td>\n",
       "      <td>CANDELARIA II</td>\n",
       "      <td>280823</td>\n",
       "      <td>1001230129</td>\n",
       "      <td>111</td>\n",
       "      <td>2015-09-08</td>\n",
       "      <td>2022-01-06 00:00:00</td>\n",
       "      <td>33</td>\n",
       "      <td>F</td>\n",
       "      <td>SOLTEIRO(A)</td>\n",
       "      <td>...</td>\n",
       "      <td>D</td>\n",
       "      <td>1407.25</td>\n",
       "      <td>RJ</td>\n",
       "      <td>CLOUD PORTIFOLIO</td>\n",
       "      <td>FULL</td>\n",
       "      <td>PROVOCADO</td>\n",
       "      <td>3.0</td>\n",
       "      <td>DISPENSA SEM JUSTA CAUSA (API)</td>\n",
       "      <td>NaN</td>\n",
       "      <td>NaN</td>\n",
       "    </tr>\n",
       "    <tr>\n",
       "      <th>4</th>\n",
       "      <td>5</td>\n",
       "      <td>CANDELARIA II</td>\n",
       "      <td>294487</td>\n",
       "      <td>1001230259</td>\n",
       "      <td>919</td>\n",
       "      <td>2016-10-03</td>\n",
       "      <td>2022-01-04 00:00:00</td>\n",
       "      <td>35</td>\n",
       "      <td>M</td>\n",
       "      <td>CASADO(A)</td>\n",
       "      <td>...</td>\n",
       "      <td>D</td>\n",
       "      <td>1679.49</td>\n",
       "      <td>RJ</td>\n",
       "      <td>CLOUD PORTIFOLIO</td>\n",
       "      <td>FULL</td>\n",
       "      <td>VOLUNTARIO</td>\n",
       "      <td>6.0</td>\n",
       "      <td>PEDIDO DE DEMISSAO C/ DESC AVP</td>\n",
       "      <td>NaN</td>\n",
       "      <td>NaN</td>\n",
       "    </tr>\n",
       "  </tbody>\n",
       "</table>\n",
       "<p>5 rows × 21 columns</p>\n",
       "</div>"
      ],
      "text/plain": [
       "   FILIAL       DESC.FIL MATRICULA  CENTRO DE CUSTO FUNCAO   ADMISSAO  \\\n",
       "0       5  CANDELARIA II    168186       1001230253    921 2011-11-07   \n",
       "1       5  CANDELARIA II    236946       1061532281    201 2014-02-05   \n",
       "2       5  CANDELARIA II    265449       1001230220    604 2011-05-02   \n",
       "3       5  CANDELARIA II    280823       1001230129    111 2015-09-08   \n",
       "4       5  CANDELARIA II    294487       1001230259    919 2016-10-03   \n",
       "\n",
       "              DEMISSAO  IDADE SEXO    EST.CIVIL  ... SIT. FOLHA   SALARIO  \\\n",
       "0  2022-01-07 00:00:00     53    M  SOLTEIRO(A)  ...          D   4237.57   \n",
       "1  2022-01-07 00:00:00     38    M  SOLTEIRO(A)  ...          D   5598.72   \n",
       "2  2022-01-03 00:00:00     35    M    CASADO(A)  ...          D  15623.47   \n",
       "3  2022-01-06 00:00:00     33    F  SOLTEIRO(A)  ...          D   1407.25   \n",
       "4  2022-01-04 00:00:00     35    M    CASADO(A)  ...          D   1679.49   \n",
       "\n",
       "   ESTADO           DIRETOR  HOME TIPO DEMISSÃO TIPO_RES  \\\n",
       "0      RJ  CLOUD PORTIFOLIO  FULL     PROVOCADO      3.0   \n",
       "1      RJ  CLOUD PORTIFOLIO  FULL    VOLUNTARIO      5.0   \n",
       "2      RJ   CLIENTE E SALES  FULL    VOLUNTARIO      5.0   \n",
       "3      RJ  CLOUD PORTIFOLIO  FULL     PROVOCADO      3.0   \n",
       "4      RJ  CLOUD PORTIFOLIO  FULL    VOLUNTARIO      6.0   \n",
       "\n",
       "                    DESCR_RECISAO COD_TO  MOTIVO TO  \n",
       "0  DISPENSA SEM JUSTA CAUSA (API)    NaN        NaN  \n",
       "1  PEDIDO DE DEMISSAO                NaN        NaN  \n",
       "2  PEDIDO DE DEMISSAO                NaN        NaN  \n",
       "3  DISPENSA SEM JUSTA CAUSA (API)    NaN        NaN  \n",
       "4  PEDIDO DE DEMISSAO C/ DESC AVP    NaN        NaN  \n",
       "\n",
       "[5 rows x 21 columns]"
      ]
     },
     "execution_count": 20,
     "metadata": {},
     "output_type": "execute_result"
    }
   ],
   "source": [
    "sra.head()"
   ]
  },
  {
   "cell_type": "markdown",
   "metadata": {},
   "source": [
    "**Existem dados nulos? Quantos são?**\n",
    "\n",
    "Sim, nas colunas `SIT. FOLHA`, `TIPO DEMISSÃO`, `TIPO_RES`, `DESCR_RECISAO`, `COD_TO` e `MOTIVO TO`."
   ]
  },
  {
   "cell_type": "code",
   "execution_count": 4,
   "metadata": {},
   "outputs": [
    {
     "data": {
      "text/plain": [
       "FILIAL                0\n",
       "DESC.FIL              0\n",
       "MATRICULA             0\n",
       "CENTRO DE CUSTO       0\n",
       "FUNCAO                0\n",
       "ADMISSAO              0\n",
       "DEMISSAO              0\n",
       "IDADE                 0\n",
       "SEXO                  0\n",
       "EST.CIVIL             0\n",
       "RACA/COR              0\n",
       "SIT. FOLHA         3244\n",
       "SALARIO               0\n",
       "ESTADO                0\n",
       "DIRETOR               0\n",
       "HOME                  0\n",
       "TIPO DEMISSÃO      4046\n",
       "TIPO_RES           4046\n",
       "DESCR_RECISAO      4046\n",
       "COD_TO             6019\n",
       "MOTIVO TO          6019\n",
       "dtype: int64"
      ]
     },
     "execution_count": 4,
     "metadata": {},
     "output_type": "execute_result"
    }
   ],
   "source": [
    "sra = sra.replace(\"-\", np.nan)\n",
    "sra.isnull().sum()"
   ]
  },
  {
   "cell_type": "markdown",
   "metadata": {},
   "source": [
    "**Quais as colunas, tipos e outras informações básicas?**\n",
    "\n",
    "Temos 6020 entradas no total"
   ]
  },
  {
   "cell_type": "code",
   "execution_count": 27,
   "metadata": {},
   "outputs": [
    {
     "data": {
      "text/html": [
       "<div>\n",
       "<style scoped>\n",
       "    .dataframe tbody tr th:only-of-type {\n",
       "        vertical-align: middle;\n",
       "    }\n",
       "\n",
       "    .dataframe tbody tr th {\n",
       "        vertical-align: top;\n",
       "    }\n",
       "\n",
       "    .dataframe thead th {\n",
       "        text-align: right;\n",
       "    }\n",
       "</style>\n",
       "<table border=\"1\" class=\"dataframe\">\n",
       "  <thead>\n",
       "    <tr style=\"text-align: right;\">\n",
       "      <th></th>\n",
       "      <th>FILIAL</th>\n",
       "      <th>CENTRO DE CUSTO</th>\n",
       "      <th>IDADE</th>\n",
       "      <th>SALARIO</th>\n",
       "      <th>TIPO_RES</th>\n",
       "      <th>COD_TO</th>\n",
       "    </tr>\n",
       "  </thead>\n",
       "  <tbody>\n",
       "    <tr>\n",
       "      <th>count</th>\n",
       "      <td>6020.000000</td>\n",
       "      <td>6.020000e+03</td>\n",
       "      <td>6020.000000</td>\n",
       "      <td>6020.00000</td>\n",
       "      <td>1974.000000</td>\n",
       "      <td>1.0</td>\n",
       "    </tr>\n",
       "    <tr>\n",
       "      <th>mean</th>\n",
       "      <td>24.306478</td>\n",
       "      <td>1.075587e+09</td>\n",
       "      <td>37.043023</td>\n",
       "      <td>6980.29838</td>\n",
       "      <td>7.621074</td>\n",
       "      <td>28.0</td>\n",
       "    </tr>\n",
       "    <tr>\n",
       "      <th>std</th>\n",
       "      <td>19.097156</td>\n",
       "      <td>3.586009e+08</td>\n",
       "      <td>10.239318</td>\n",
       "      <td>6503.90272</td>\n",
       "      <td>9.297869</td>\n",
       "      <td>NaN</td>\n",
       "    </tr>\n",
       "    <tr>\n",
       "      <th>min</th>\n",
       "      <td>1.000000</td>\n",
       "      <td>1.001101e+09</td>\n",
       "      <td>15.000000</td>\n",
       "      <td>569.36000</td>\n",
       "      <td>1.000000</td>\n",
       "      <td>28.0</td>\n",
       "    </tr>\n",
       "    <tr>\n",
       "      <th>25%</th>\n",
       "      <td>9.000000</td>\n",
       "      <td>1.001225e+09</td>\n",
       "      <td>29.000000</td>\n",
       "      <td>2289.01750</td>\n",
       "      <td>3.000000</td>\n",
       "      <td>28.0</td>\n",
       "    </tr>\n",
       "    <tr>\n",
       "      <th>50%</th>\n",
       "      <td>19.000000</td>\n",
       "      <td>1.001230e+09</td>\n",
       "      <td>36.000000</td>\n",
       "      <td>4434.31500</td>\n",
       "      <td>5.000000</td>\n",
       "      <td>28.0</td>\n",
       "    </tr>\n",
       "    <tr>\n",
       "      <th>75%</th>\n",
       "      <td>27.000000</td>\n",
       "      <td>1.001231e+09</td>\n",
       "      <td>43.000000</td>\n",
       "      <td>10000.00000</td>\n",
       "      <td>6.000000</td>\n",
       "      <td>28.0</td>\n",
       "    </tr>\n",
       "    <tr>\n",
       "      <th>max</th>\n",
       "      <td>71.000000</td>\n",
       "      <td>3.007010e+09</td>\n",
       "      <td>74.000000</td>\n",
       "      <td>93186.15000</td>\n",
       "      <td>42.000000</td>\n",
       "      <td>28.0</td>\n",
       "    </tr>\n",
       "  </tbody>\n",
       "</table>\n",
       "</div>"
      ],
      "text/plain": [
       "            FILIAL  CENTRO DE CUSTO        IDADE      SALARIO     TIPO_RES  \\\n",
       "count  6020.000000     6.020000e+03  6020.000000   6020.00000  1974.000000   \n",
       "mean     24.306478     1.075587e+09    37.043023   6980.29838     7.621074   \n",
       "std      19.097156     3.586009e+08    10.239318   6503.90272     9.297869   \n",
       "min       1.000000     1.001101e+09    15.000000    569.36000     1.000000   \n",
       "25%       9.000000     1.001225e+09    29.000000   2289.01750     3.000000   \n",
       "50%      19.000000     1.001230e+09    36.000000   4434.31500     5.000000   \n",
       "75%      27.000000     1.001231e+09    43.000000  10000.00000     6.000000   \n",
       "max      71.000000     3.007010e+09    74.000000  93186.15000    42.000000   \n",
       "\n",
       "       COD_TO  \n",
       "count     1.0  \n",
       "mean     28.0  \n",
       "std       NaN  \n",
       "min      28.0  \n",
       "25%      28.0  \n",
       "50%      28.0  \n",
       "75%      28.0  \n",
       "max      28.0  "
      ]
     },
     "execution_count": 27,
     "metadata": {},
     "output_type": "execute_result"
    }
   ],
   "source": [
    "sra.describe()"
   ]
  },
  {
   "cell_type": "code",
   "execution_count": 4,
   "metadata": {},
   "outputs": [
    {
     "name": "stdout",
     "output_type": "stream",
     "text": [
      "O DataFrame tem 21 colunas.\n",
      "\n",
      "A coluna FILIAL tem o tipo int64.\n",
      "A coluna DESC.FIL tem o tipo string.\n",
      "A coluna MATRICULA tem o tipo string.\n",
      "A coluna CENTRO DE CUSTO tem o tipo int64.\n",
      "A coluna FUNCAO tem o tipo string.\n",
      "A coluna ADMISSAO tem o tipo datetime64[ns].\n",
      "A coluna DEMISSAO tem o tipo string.\n",
      "A coluna IDADE tem o tipo int64.\n",
      "A coluna SEXO tem o tipo string.\n",
      "A coluna EST.CIVIL tem o tipo string.\n",
      "A coluna RACA/COR tem o tipo string.\n",
      "A coluna SIT. FOLHA tem o tipo string.\n",
      "A coluna SALARIO tem o tipo float64.\n",
      "A coluna ESTADO tem o tipo string.\n",
      "A coluna DIRETOR tem o tipo string.\n",
      "A coluna HOME tem o tipo string.\n",
      "A coluna TIPO DEMISSÃO tem o tipo string.\n",
      "A coluna TIPO_RES tem o tipo float64.\n",
      "A coluna DESCR_RECISAO tem o tipo string.\n",
      "A coluna COD_TO tem o tipo float64.\n",
      "A coluna MOTIVO TO tem o tipo string.\n"
     ]
    }
   ],
   "source": [
    "print(f\"O DataFrame tem {len(sra.columns)} colunas.\\n\")\n",
    "\n",
    "for column in sra.columns:\n",
    "    print(\n",
    "        f\"A coluna {column} tem o tipo {'string' if sra[column].dtype == 'object' else sra[column].dtype}.\")"
   ]
  },
  {
   "cell_type": "markdown",
   "metadata": {},
   "source": [
    "### Movimentações"
   ]
  },
  {
   "cell_type": "markdown",
   "metadata": {},
   "source": [
    "Qual o aspecto geral do `DataFrame`?"
   ]
  },
  {
   "cell_type": "code",
   "execution_count": 5,
   "metadata": {},
   "outputs": [
    {
     "data": {
      "text/html": [
       "<div>\n",
       "<style scoped>\n",
       "    .dataframe tbody tr th:only-of-type {\n",
       "        vertical-align: middle;\n",
       "    }\n",
       "\n",
       "    .dataframe tbody tr th {\n",
       "        vertical-align: top;\n",
       "    }\n",
       "\n",
       "    .dataframe thead th {\n",
       "        text-align: right;\n",
       "    }\n",
       "</style>\n",
       "<table border=\"1\" class=\"dataframe\">\n",
       "  <thead>\n",
       "    <tr style=\"text-align: right;\">\n",
       "      <th></th>\n",
       "      <th>MATRICULA</th>\n",
       "      <th>DATA ALTERACAO</th>\n",
       "      <th>TIPO ALTERACAO</th>\n",
       "      <th>DESC_TP_ALTERACAO</th>\n",
       "      <th>FUNCAO ANTERIOR</th>\n",
       "      <th>SALARIO ANTERIOR</th>\n",
       "      <th>FUNCAO_ATUAL</th>\n",
       "      <th>SALARIO_ATUAL</th>\n",
       "    </tr>\n",
       "  </thead>\n",
       "  <tbody>\n",
       "    <tr>\n",
       "      <th>0</th>\n",
       "      <td>189</td>\n",
       "      <td>2021-03-02</td>\n",
       "      <td>2</td>\n",
       "      <td>PROMOCAO</td>\n",
       "      <td>377</td>\n",
       "      <td>19269.01</td>\n",
       "      <td>1479</td>\n",
       "      <td>26172.40</td>\n",
       "    </tr>\n",
       "    <tr>\n",
       "      <th>1</th>\n",
       "      <td>835</td>\n",
       "      <td>2020-09-02</td>\n",
       "      <td>2</td>\n",
       "      <td>PROMOCAO</td>\n",
       "      <td>12</td>\n",
       "      <td>8046.47</td>\n",
       "      <td>466</td>\n",
       "      <td>10782.38</td>\n",
       "    </tr>\n",
       "    <tr>\n",
       "      <th>2</th>\n",
       "      <td>2472</td>\n",
       "      <td>2022-02-02</td>\n",
       "      <td>6</td>\n",
       "      <td>MERITO</td>\n",
       "      <td>874</td>\n",
       "      <td>13124.18</td>\n",
       "      <td>874</td>\n",
       "      <td>15214.86</td>\n",
       "    </tr>\n",
       "    <tr>\n",
       "      <th>3</th>\n",
       "      <td>2826</td>\n",
       "      <td>2021-01-01</td>\n",
       "      <td>2</td>\n",
       "      <td>PROMOCAO</td>\n",
       "      <td>726</td>\n",
       "      <td>35541.79</td>\n",
       "      <td>1458</td>\n",
       "      <td>52832.40</td>\n",
       "    </tr>\n",
       "    <tr>\n",
       "      <th>4</th>\n",
       "      <td>2826</td>\n",
       "      <td>2021-03-02</td>\n",
       "      <td>6</td>\n",
       "      <td>MERITO</td>\n",
       "      <td>357</td>\n",
       "      <td>35541.79</td>\n",
       "      <td>1458</td>\n",
       "      <td>52832.40</td>\n",
       "    </tr>\n",
       "  </tbody>\n",
       "</table>\n",
       "</div>"
      ],
      "text/plain": [
       "  MATRICULA DATA ALTERACAO  TIPO ALTERACAO DESC_TP_ALTERACAO FUNCAO ANTERIOR  \\\n",
       "0       189     2021-03-02               2          PROMOCAO             377   \n",
       "1       835     2020-09-02               2          PROMOCAO              12   \n",
       "2      2472     2022-02-02               6            MERITO             874   \n",
       "3      2826     2021-01-01               2          PROMOCAO             726   \n",
       "4      2826     2021-03-02               6            MERITO             357   \n",
       "\n",
       "   SALARIO ANTERIOR FUNCAO_ATUAL  SALARIO_ATUAL  \n",
       "0          19269.01         1479       26172.40  \n",
       "1           8046.47          466       10782.38  \n",
       "2          13124.18          874       15214.86  \n",
       "3          35541.79         1458       52832.40  \n",
       "4          35541.79         1458       52832.40  "
      ]
     },
     "execution_count": 5,
     "metadata": {},
     "output_type": "execute_result"
    }
   ],
   "source": [
    "movimentacoes.head()"
   ]
  },
  {
   "cell_type": "markdown",
   "metadata": {},
   "source": [
    "**Existem dados nulos? Quantos são?**\n",
    "\n",
    "Neste dataset não."
   ]
  },
  {
   "cell_type": "code",
   "execution_count": 6,
   "metadata": {},
   "outputs": [
    {
     "data": {
      "text/plain": [
       "MATRICULA            0\n",
       "DATA ALTERACAO       0\n",
       "TIPO ALTERACAO       0\n",
       "DESC_TP_ALTERACAO    0\n",
       "FUNCAO ANTERIOR      0\n",
       "SALARIO ANTERIOR     0\n",
       "FUNCAO_ATUAL         0\n",
       "SALARIO_ATUAL        0\n",
       "dtype: int64"
      ]
     },
     "execution_count": 6,
     "metadata": {},
     "output_type": "execute_result"
    }
   ],
   "source": [
    "movimentacoes = movimentacoes.replace(\"-\", np.nan)\n",
    "movimentacoes.isnull().sum()"
   ]
  },
  {
   "cell_type": "markdown",
   "metadata": {},
   "source": [
    "**Quais as colunas, tipos e outras informações básicas?**\n",
    "\n",
    "Temos 3035 entradas no total"
   ]
  },
  {
   "cell_type": "code",
   "execution_count": 7,
   "metadata": {},
   "outputs": [
    {
     "data": {
      "text/html": [
       "<div>\n",
       "<style scoped>\n",
       "    .dataframe tbody tr th:only-of-type {\n",
       "        vertical-align: middle;\n",
       "    }\n",
       "\n",
       "    .dataframe tbody tr th {\n",
       "        vertical-align: top;\n",
       "    }\n",
       "\n",
       "    .dataframe thead th {\n",
       "        text-align: right;\n",
       "    }\n",
       "</style>\n",
       "<table border=\"1\" class=\"dataframe\">\n",
       "  <thead>\n",
       "    <tr style=\"text-align: right;\">\n",
       "      <th></th>\n",
       "      <th>TIPO ALTERACAO</th>\n",
       "      <th>SALARIO ANTERIOR</th>\n",
       "      <th>SALARIO_ATUAL</th>\n",
       "    </tr>\n",
       "  </thead>\n",
       "  <tbody>\n",
       "    <tr>\n",
       "      <th>count</th>\n",
       "      <td>3035.000000</td>\n",
       "      <td>3035.000000</td>\n",
       "      <td>3035.000000</td>\n",
       "    </tr>\n",
       "    <tr>\n",
       "      <th>mean</th>\n",
       "      <td>72.951895</td>\n",
       "      <td>6232.094336</td>\n",
       "      <td>8738.910685</td>\n",
       "    </tr>\n",
       "    <tr>\n",
       "      <th>std</th>\n",
       "      <td>51.978702</td>\n",
       "      <td>6648.756714</td>\n",
       "      <td>8432.069138</td>\n",
       "    </tr>\n",
       "    <tr>\n",
       "      <th>min</th>\n",
       "      <td>2.000000</td>\n",
       "      <td>454.290000</td>\n",
       "      <td>1359.650000</td>\n",
       "    </tr>\n",
       "    <tr>\n",
       "      <th>25%</th>\n",
       "      <td>6.000000</td>\n",
       "      <td>2156.260000</td>\n",
       "      <td>3397.090000</td>\n",
       "    </tr>\n",
       "    <tr>\n",
       "      <th>50%</th>\n",
       "      <td>112.000000</td>\n",
       "      <td>4138.650000</td>\n",
       "      <td>6420.870000</td>\n",
       "    </tr>\n",
       "    <tr>\n",
       "      <th>75%</th>\n",
       "      <td>112.000000</td>\n",
       "      <td>8414.735000</td>\n",
       "      <td>11649.440000</td>\n",
       "    </tr>\n",
       "    <tr>\n",
       "      <th>max</th>\n",
       "      <td>113.000000</td>\n",
       "      <td>141924.710000</td>\n",
       "      <td>178416.140000</td>\n",
       "    </tr>\n",
       "  </tbody>\n",
       "</table>\n",
       "</div>"
      ],
      "text/plain": [
       "       TIPO ALTERACAO  SALARIO ANTERIOR  SALARIO_ATUAL\n",
       "count     3035.000000       3035.000000    3035.000000\n",
       "mean        72.951895       6232.094336    8738.910685\n",
       "std         51.978702       6648.756714    8432.069138\n",
       "min          2.000000        454.290000    1359.650000\n",
       "25%          6.000000       2156.260000    3397.090000\n",
       "50%        112.000000       4138.650000    6420.870000\n",
       "75%        112.000000       8414.735000   11649.440000\n",
       "max        113.000000     141924.710000  178416.140000"
      ]
     },
     "execution_count": 7,
     "metadata": {},
     "output_type": "execute_result"
    }
   ],
   "source": [
    "movimentacoes.describe()"
   ]
  },
  {
   "cell_type": "code",
   "execution_count": 8,
   "metadata": {},
   "outputs": [
    {
     "name": "stdout",
     "output_type": "stream",
     "text": [
      "O DataFrame tem 8 colunas.\n",
      "\n",
      "A coluna MATRICULA tem o tipo string.\n",
      "A coluna DATA ALTERACAO tem o tipo datetime64[ns].\n",
      "A coluna TIPO ALTERACAO tem o tipo int64.\n",
      "A coluna DESC_TP_ALTERACAO tem o tipo string.\n",
      "A coluna FUNCAO ANTERIOR tem o tipo string.\n",
      "A coluna SALARIO ANTERIOR tem o tipo float64.\n",
      "A coluna FUNCAO_ATUAL tem o tipo string.\n",
      "A coluna SALARIO_ATUAL tem o tipo float64.\n"
     ]
    }
   ],
   "source": [
    "print(f\"O DataFrame tem {len(movimentacoes.columns)} colunas.\\n\")\n",
    "\n",
    "for column in movimentacoes.columns:\n",
    "    print(\n",
    "        f\"A coluna {column} tem o tipo {'string' if movimentacoes[column].dtype == 'object' else movimentacoes[column].dtype}.\")"
   ]
  },
  {
   "cell_type": "markdown",
   "metadata": {},
   "source": [
    "### Certificações"
   ]
  },
  {
   "cell_type": "markdown",
   "metadata": {},
   "source": [
    "Qual o aspecto geral do `DataFrame`?"
   ]
  },
  {
   "cell_type": "code",
   "execution_count": 9,
   "metadata": {},
   "outputs": [
    {
     "data": {
      "text/html": [
       "<div>\n",
       "<style scoped>\n",
       "    .dataframe tbody tr th:only-of-type {\n",
       "        vertical-align: middle;\n",
       "    }\n",
       "\n",
       "    .dataframe tbody tr th {\n",
       "        vertical-align: top;\n",
       "    }\n",
       "\n",
       "    .dataframe thead th {\n",
       "        text-align: right;\n",
       "    }\n",
       "</style>\n",
       "<table border=\"1\" class=\"dataframe\">\n",
       "  <thead>\n",
       "    <tr style=\"text-align: right;\">\n",
       "      <th></th>\n",
       "      <th>MATRICULA</th>\n",
       "      <th>NOME CERTIFICAÇÃO</th>\n",
       "      <th>NOME INSTITUIÇAO</th>\n",
       "      <th>EMISSÃO</th>\n",
       "      <th>VALIDADE</th>\n",
       "    </tr>\n",
       "  </thead>\n",
       "  <tbody>\n",
       "    <tr>\n",
       "      <th>0</th>\n",
       "      <td>296144</td>\n",
       "      <td>SIX SIGMA YELLOW BELT PROFESSIONAL</td>\n",
       "      <td>6 SIGMA STUDY</td>\n",
       "      <td>02/12/2019</td>\n",
       "      <td>-</td>\n",
       "    </tr>\n",
       "    <tr>\n",
       "      <th>1</th>\n",
       "      <td>307812</td>\n",
       "      <td>SIX SIGMA YELLOW BELT PROFESSIONAL</td>\n",
       "      <td>6 SIGMA STUDY</td>\n",
       "      <td>06/06/2020</td>\n",
       "      <td>-</td>\n",
       "    </tr>\n",
       "    <tr>\n",
       "      <th>2</th>\n",
       "      <td>290835</td>\n",
       "      <td>SIX SIGMA YELLOW BELT PROFESSIONAL</td>\n",
       "      <td>6 SIGMA STUDY</td>\n",
       "      <td>03/06/2020</td>\n",
       "      <td>-</td>\n",
       "    </tr>\n",
       "    <tr>\n",
       "      <th>3</th>\n",
       "      <td>306464</td>\n",
       "      <td>SIX SIGMA YELLOW BELT PROFESSIONAL</td>\n",
       "      <td>6 SIGMA STUDY</td>\n",
       "      <td>05/03/2019</td>\n",
       "      <td>-</td>\n",
       "    </tr>\n",
       "    <tr>\n",
       "      <th>4</th>\n",
       "      <td>309321</td>\n",
       "      <td>PROFESSIONAL OKR COACH CERTIFIED - POCC</td>\n",
       "      <td>AGILE INSTITUTE BRAZIL</td>\n",
       "      <td>14/11/2021</td>\n",
       "      <td>-</td>\n",
       "    </tr>\n",
       "  </tbody>\n",
       "</table>\n",
       "</div>"
      ],
      "text/plain": [
       "  MATRICULA                         NOME CERTIFICAÇÃO        NOME INSTITUIÇAO  \\\n",
       "0    296144       SIX SIGMA YELLOW BELT PROFESSIONAL            6 SIGMA STUDY   \n",
       "1    307812       SIX SIGMA YELLOW BELT PROFESSIONAL            6 SIGMA STUDY   \n",
       "2    290835       SIX SIGMA YELLOW BELT PROFESSIONAL            6 SIGMA STUDY   \n",
       "3    306464       SIX SIGMA YELLOW BELT PROFESSIONAL            6 SIGMA STUDY   \n",
       "4    309321  PROFESSIONAL OKR COACH CERTIFIED - POCC   AGILE INSTITUTE BRAZIL   \n",
       "\n",
       "      EMISSÃO VALIDADE  \n",
       "0  02/12/2019        -  \n",
       "1  06/06/2020        -  \n",
       "2  03/06/2020        -  \n",
       "3  05/03/2019        -  \n",
       "4  14/11/2021        -  "
      ]
     },
     "execution_count": 9,
     "metadata": {},
     "output_type": "execute_result"
    }
   ],
   "source": [
    "certificacoes.head()"
   ]
  },
  {
   "cell_type": "markdown",
   "metadata": {},
   "source": [
    "**Existem dados nulos? Quantos são?**\n",
    "\n",
    "Sim, na coluna `VALIDADE` temos 1302 dados nulos. Provavelmente porque os certificados não espiram nesses casos."
   ]
  },
  {
   "cell_type": "code",
   "execution_count": 10,
   "metadata": {},
   "outputs": [
    {
     "data": {
      "text/plain": [
       "MATRICULA               0\n",
       "NOME CERTIFICAÇÃO       0\n",
       "NOME INSTITUIÇAO        0\n",
       "EMISSÃO                 0\n",
       "VALIDADE             1302\n",
       "dtype: int64"
      ]
     },
     "execution_count": 10,
     "metadata": {},
     "output_type": "execute_result"
    }
   ],
   "source": [
    "certificacoes = certificacoes.replace(\"-\", np.nan)\n",
    "certificacoes.isnull().sum()"
   ]
  },
  {
   "cell_type": "markdown",
   "metadata": {},
   "source": [
    "**Quais as colunas, tipos e outras informações básicas?**\n",
    "\n",
    "Temos 2572 entradas no total."
   ]
  },
  {
   "cell_type": "code",
   "execution_count": 12,
   "metadata": {},
   "outputs": [
    {
     "data": {
      "text/html": [
       "<div>\n",
       "<style scoped>\n",
       "    .dataframe tbody tr th:only-of-type {\n",
       "        vertical-align: middle;\n",
       "    }\n",
       "\n",
       "    .dataframe tbody tr th {\n",
       "        vertical-align: top;\n",
       "    }\n",
       "\n",
       "    .dataframe thead th {\n",
       "        text-align: right;\n",
       "    }\n",
       "</style>\n",
       "<table border=\"1\" class=\"dataframe\">\n",
       "  <thead>\n",
       "    <tr style=\"text-align: right;\">\n",
       "      <th></th>\n",
       "      <th>MATRICULA</th>\n",
       "      <th>NOME CERTIFICAÇÃO</th>\n",
       "      <th>NOME INSTITUIÇAO</th>\n",
       "      <th>EMISSÃO</th>\n",
       "      <th>VALIDADE</th>\n",
       "    </tr>\n",
       "  </thead>\n",
       "  <tbody>\n",
       "    <tr>\n",
       "      <th>count</th>\n",
       "      <td>2572</td>\n",
       "      <td>2572</td>\n",
       "      <td>2572</td>\n",
       "      <td>2572</td>\n",
       "      <td>1270</td>\n",
       "    </tr>\n",
       "    <tr>\n",
       "      <th>unique</th>\n",
       "      <td>708</td>\n",
       "      <td>579</td>\n",
       "      <td>97</td>\n",
       "      <td>1145</td>\n",
       "      <td>482</td>\n",
       "    </tr>\n",
       "    <tr>\n",
       "      <th>top</th>\n",
       "      <td>291157</td>\n",
       "      <td>ORACLE CLOUD INFRASTRUCTURE 2023 CERTIFIED FOU...</td>\n",
       "      <td>MICROSOFT</td>\n",
       "      <td>08/08/2023</td>\n",
       "      <td>08/08/2025</td>\n",
       "    </tr>\n",
       "    <tr>\n",
       "      <th>freq</th>\n",
       "      <td>27</td>\n",
       "      <td>305</td>\n",
       "      <td>621</td>\n",
       "      <td>45</td>\n",
       "      <td>35</td>\n",
       "    </tr>\n",
       "  </tbody>\n",
       "</table>\n",
       "</div>"
      ],
      "text/plain": [
       "        MATRICULA                                  NOME CERTIFICAÇÃO  \\\n",
       "count        2572                                               2572   \n",
       "unique        708                                                579   \n",
       "top        291157  ORACLE CLOUD INFRASTRUCTURE 2023 CERTIFIED FOU...   \n",
       "freq           27                                                305   \n",
       "\n",
       "       NOME INSTITUIÇAO     EMISSÃO    VALIDADE  \n",
       "count              2572        2572        1270  \n",
       "unique               97        1145         482  \n",
       "top           MICROSOFT  08/08/2023  08/08/2025  \n",
       "freq                621          45          35  "
      ]
     },
     "execution_count": 12,
     "metadata": {},
     "output_type": "execute_result"
    }
   ],
   "source": [
    "certificacoes.describe()"
   ]
  },
  {
   "cell_type": "code",
   "execution_count": 13,
   "metadata": {},
   "outputs": [
    {
     "name": "stdout",
     "output_type": "stream",
     "text": [
      "O DataFrame tem 5 colunas.\n",
      "\n",
      "A coluna MATRICULA tem o tipo string.\n",
      "A coluna NOME CERTIFICAÇÃO tem o tipo string.\n",
      "A coluna NOME INSTITUIÇAO tem o tipo string.\n",
      "A coluna EMISSÃO tem o tipo string.\n",
      "A coluna VALIDADE tem o tipo string.\n"
     ]
    }
   ],
   "source": [
    "print(f\"O DataFrame tem {len(certificacoes.columns)} colunas.\\n\")\n",
    "\n",
    "for column in certificacoes.columns:\n",
    "    print(\n",
    "        f\"A coluna {column} tem o tipo {'string' if certificacoes[column].dtype == 'object' else certificacoes[column].dtype}.\")"
   ]
  },
  {
   "cell_type": "markdown",
   "metadata": {},
   "source": [
    "### Entrevistas"
   ]
  },
  {
   "cell_type": "markdown",
   "metadata": {},
   "source": [
    "Qual o aspecto geral do `DataFrame`?"
   ]
  },
  {
   "cell_type": "code",
   "execution_count": 14,
   "metadata": {},
   "outputs": [
    {
     "data": {
      "text/html": [
       "<div>\n",
       "<style scoped>\n",
       "    .dataframe tbody tr th:only-of-type {\n",
       "        vertical-align: middle;\n",
       "    }\n",
       "\n",
       "    .dataframe tbody tr th {\n",
       "        vertical-align: top;\n",
       "    }\n",
       "\n",
       "    .dataframe thead th {\n",
       "        text-align: right;\n",
       "    }\n",
       "</style>\n",
       "<table border=\"1\" class=\"dataframe\">\n",
       "  <thead>\n",
       "    <tr style=\"text-align: right;\">\n",
       "      <th></th>\n",
       "      <th>MATRÍCULA</th>\n",
       "      <th>MAPA \\nTOP TALENT</th>\n",
       "      <th>DISCIPLINA</th>\n",
       "      <th>SALÁRIO ATUAL</th>\n",
       "      <th>PARA QUAL EMPRESA FOI?</th>\n",
       "      <th>CARREIRA</th>\n",
       "      <th>DESENVOLVIMENTO PROFISSIONAL</th>\n",
       "      <th>REMUNERAÇÃO</th>\n",
       "      <th>BENEFÍCIOS</th>\n",
       "      <th>CLIMA</th>\n",
       "      <th>CULTURA</th>\n",
       "      <th>BEM ESTAR</th>\n",
       "      <th>OUTROS</th>\n",
       "    </tr>\n",
       "  </thead>\n",
       "  <tbody>\n",
       "    <tr>\n",
       "      <th>0</th>\n",
       "      <td>E12394</td>\n",
       "      <td>NÃO</td>\n",
       "      <td>NaN</td>\n",
       "      <td>2900.00</td>\n",
       "      <td>BANCO PAN</td>\n",
       "      <td>NÃO</td>\n",
       "      <td>SIM</td>\n",
       "      <td>NÃO</td>\n",
       "      <td>NÃO</td>\n",
       "      <td>NÃO</td>\n",
       "      <td>NÃO</td>\n",
       "      <td>NÃO</td>\n",
       "      <td>NÃO</td>\n",
       "    </tr>\n",
       "    <tr>\n",
       "      <th>1</th>\n",
       "      <td>310791</td>\n",
       "      <td>NÃO</td>\n",
       "      <td>NaN</td>\n",
       "      <td>9500.00</td>\n",
       "      <td>GLOBAL WEB</td>\n",
       "      <td>NÃO</td>\n",
       "      <td>NÃO</td>\n",
       "      <td>NÃO</td>\n",
       "      <td>NÃO</td>\n",
       "      <td>SIM</td>\n",
       "      <td>NÃO</td>\n",
       "      <td>NÃO</td>\n",
       "      <td>NÃO</td>\n",
       "    </tr>\n",
       "    <tr>\n",
       "      <th>2</th>\n",
       "      <td>308968</td>\n",
       "      <td>NÃO</td>\n",
       "      <td>BANCO DE DADOS</td>\n",
       "      <td>15887.19</td>\n",
       "      <td>SERASA</td>\n",
       "      <td>SIM</td>\n",
       "      <td>SIM</td>\n",
       "      <td>NÃO</td>\n",
       "      <td>SIM</td>\n",
       "      <td>NÃO</td>\n",
       "      <td>NÃO</td>\n",
       "      <td>NÃO</td>\n",
       "      <td>NÃO</td>\n",
       "    </tr>\n",
       "    <tr>\n",
       "      <th>3</th>\n",
       "      <td>308236</td>\n",
       "      <td>NÃO</td>\n",
       "      <td>UNIX</td>\n",
       "      <td>0.00</td>\n",
       "      <td>ZADARA</td>\n",
       "      <td>SIM</td>\n",
       "      <td>SIM</td>\n",
       "      <td>NÃO</td>\n",
       "      <td>NÃO</td>\n",
       "      <td>NÃO</td>\n",
       "      <td>NÃO</td>\n",
       "      <td>NÃO</td>\n",
       "      <td>NÃO</td>\n",
       "    </tr>\n",
       "    <tr>\n",
       "      <th>4</th>\n",
       "      <td>297837</td>\n",
       "      <td>NÃO</td>\n",
       "      <td>WINDOWS</td>\n",
       "      <td>8000.00</td>\n",
       "      <td>CIELO</td>\n",
       "      <td>NÃO</td>\n",
       "      <td>NÃO</td>\n",
       "      <td>NÃO</td>\n",
       "      <td>NÃO</td>\n",
       "      <td>SIM</td>\n",
       "      <td>NÃO</td>\n",
       "      <td>SIM</td>\n",
       "      <td>NÃO</td>\n",
       "    </tr>\n",
       "  </tbody>\n",
       "</table>\n",
       "</div>"
      ],
      "text/plain": [
       "  MATRÍCULA MAPA \\nTOP TALENT      DISCIPLINA  SALÁRIO ATUAL  \\\n",
       "0    E12394               NÃO             NaN        2900.00   \n",
       "1    310791               NÃO             NaN        9500.00   \n",
       "2    308968               NÃO  BANCO DE DADOS       15887.19   \n",
       "3    308236               NÃO            UNIX           0.00   \n",
       "4    297837               NÃO        WINDOWS         8000.00   \n",
       "\n",
       "  PARA QUAL EMPRESA FOI? CARREIRA DESENVOLVIMENTO PROFISSIONAL REMUNERAÇÃO  \\\n",
       "0              BANCO PAN      NÃO                          SIM         NÃO   \n",
       "1             GLOBAL WEB      NÃO                          NÃO         NÃO   \n",
       "2                 SERASA      SIM                          SIM         NÃO   \n",
       "3                 ZADARA      SIM                          SIM         NÃO   \n",
       "4                  CIELO      NÃO                          NÃO         NÃO   \n",
       "\n",
       "  BENEFÍCIOS CLIMA CULTURA BEM ESTAR OUTROS  \n",
       "0        NÃO   NÃO     NÃO       NÃO    NÃO  \n",
       "1        NÃO   SIM     NÃO       NÃO    NÃO  \n",
       "2        SIM   NÃO     NÃO       NÃO    NÃO  \n",
       "3        NÃO   NÃO     NÃO       NÃO    NÃO  \n",
       "4        NÃO   SIM     NÃO       SIM    NÃO  "
      ]
     },
     "execution_count": 14,
     "metadata": {},
     "output_type": "execute_result"
    }
   ],
   "source": [
    "entrevistas.head()"
   ]
  },
  {
   "cell_type": "markdown",
   "metadata": {},
   "source": [
    "**Existem dados nulos? Quantos são?**\n",
    "\n",
    "Sim, nas colunas `DISCIPLINA` e `PARA QUAL EMPRESA FOI?`."
   ]
  },
  {
   "cell_type": "code",
   "execution_count": 15,
   "metadata": {},
   "outputs": [
    {
     "data": {
      "text/plain": [
       "MATRÍCULA                         0\n",
       "MAPA \\nTOP TALENT                 0\n",
       "DISCIPLINA                      819\n",
       "SALÁRIO ATUAL                     0\n",
       "PARA QUAL EMPRESA FOI?          817\n",
       "CARREIRA                          0\n",
       "DESENVOLVIMENTO PROFISSIONAL      0\n",
       "REMUNERAÇÃO                       0\n",
       "BENEFÍCIOS                        0\n",
       "CLIMA                             0\n",
       "CULTURA                           0\n",
       "BEM ESTAR                         0\n",
       "OUTROS                            0\n",
       "dtype: int64"
      ]
     },
     "execution_count": 15,
     "metadata": {},
     "output_type": "execute_result"
    }
   ],
   "source": [
    "entrevistas = entrevistas.replace(\"-\", np.nan)\n",
    "entrevistas.isnull().sum()"
   ]
  },
  {
   "cell_type": "markdown",
   "metadata": {},
   "source": [
    "**Quais as colunas, tipos e outras informações básicas?**\n",
    "\n",
    "Temos 922 entradas no total"
   ]
  },
  {
   "cell_type": "code",
   "execution_count": 18,
   "metadata": {},
   "outputs": [
    {
     "data": {
      "text/html": [
       "<div>\n",
       "<style scoped>\n",
       "    .dataframe tbody tr th:only-of-type {\n",
       "        vertical-align: middle;\n",
       "    }\n",
       "\n",
       "    .dataframe tbody tr th {\n",
       "        vertical-align: top;\n",
       "    }\n",
       "\n",
       "    .dataframe thead th {\n",
       "        text-align: right;\n",
       "    }\n",
       "</style>\n",
       "<table border=\"1\" class=\"dataframe\">\n",
       "  <thead>\n",
       "    <tr style=\"text-align: right;\">\n",
       "      <th></th>\n",
       "      <th>SALÁRIO ATUAL</th>\n",
       "    </tr>\n",
       "  </thead>\n",
       "  <tbody>\n",
       "    <tr>\n",
       "      <th>count</th>\n",
       "      <td>922.000000</td>\n",
       "    </tr>\n",
       "    <tr>\n",
       "      <th>mean</th>\n",
       "      <td>721.400751</td>\n",
       "    </tr>\n",
       "    <tr>\n",
       "      <th>std</th>\n",
       "      <td>2830.666124</td>\n",
       "    </tr>\n",
       "    <tr>\n",
       "      <th>min</th>\n",
       "      <td>0.000000</td>\n",
       "    </tr>\n",
       "    <tr>\n",
       "      <th>25%</th>\n",
       "      <td>0.000000</td>\n",
       "    </tr>\n",
       "    <tr>\n",
       "      <th>50%</th>\n",
       "      <td>0.000000</td>\n",
       "    </tr>\n",
       "    <tr>\n",
       "      <th>75%</th>\n",
       "      <td>0.000000</td>\n",
       "    </tr>\n",
       "    <tr>\n",
       "      <th>max</th>\n",
       "      <td>26000.000000</td>\n",
       "    </tr>\n",
       "  </tbody>\n",
       "</table>\n",
       "</div>"
      ],
      "text/plain": [
       "       SALÁRIO ATUAL\n",
       "count     922.000000\n",
       "mean      721.400751\n",
       "std      2830.666124\n",
       "min         0.000000\n",
       "25%         0.000000\n",
       "50%         0.000000\n",
       "75%         0.000000\n",
       "max     26000.000000"
      ]
     },
     "execution_count": 18,
     "metadata": {},
     "output_type": "execute_result"
    }
   ],
   "source": [
    "entrevistas.describe()"
   ]
  },
  {
   "cell_type": "code",
   "execution_count": 19,
   "metadata": {},
   "outputs": [
    {
     "name": "stdout",
     "output_type": "stream",
     "text": [
      "O DataFrame tem 13 colunas.\n",
      "\n",
      "A coluna MATRÍCULA tem o tipo string.\n",
      "A coluna MAPA \n",
      "TOP TALENT tem o tipo string.\n",
      "A coluna DISCIPLINA tem o tipo string.\n",
      "A coluna SALÁRIO ATUAL tem o tipo float64.\n",
      "A coluna PARA QUAL EMPRESA FOI? tem o tipo string.\n",
      "A coluna CARREIRA tem o tipo string.\n",
      "A coluna DESENVOLVIMENTO PROFISSIONAL tem o tipo string.\n",
      "A coluna REMUNERAÇÃO tem o tipo string.\n",
      "A coluna BENEFÍCIOS tem o tipo string.\n",
      "A coluna CLIMA tem o tipo string.\n",
      "A coluna CULTURA tem o tipo string.\n",
      "A coluna BEM ESTAR tem o tipo string.\n",
      "A coluna OUTROS tem o tipo string.\n"
     ]
    }
   ],
   "source": [
    "print(f\"O DataFrame tem {len(entrevistas.columns)} colunas.\\n\")\n",
    "\n",
    "for column in entrevistas.columns:\n",
    "    print(\n",
    "        f\"A coluna {column} tem o tipo {'string' if entrevistas[column].dtype == 'object' else entrevistas[column].dtype}.\")"
   ]
  }
 ],
 "metadata": {
  "kernelspec": {
   "display_name": "Python 3",
   "language": "python",
   "name": "python3"
  },
  "language_info": {
   "codemirror_mode": {
    "name": "ipython",
    "version": 3
   },
   "file_extension": ".py",
   "mimetype": "text/x-python",
   "name": "python",
   "nbconvert_exporter": "python",
   "pygments_lexer": "ipython3",
   "version": "3.11.5"
  },
  "orig_nbformat": 4
 },
 "nbformat": 4,
 "nbformat_minor": 2
}
