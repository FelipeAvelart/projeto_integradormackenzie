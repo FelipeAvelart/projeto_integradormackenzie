{
  "cells": [
    {
      "cell_type": "markdown",
      "metadata": {},
      "source": [
        "# Análise exploratória para a entrega 2"
      ]
    },
    {
      "cell_type": "markdown",
      "metadata": {},
      "source": [
        "## Indíce\n",
        "1. [Introdução](#introducao)\n",
        "2. [Importando as dependências](#importando-as-dependências)\n",
        "3. [Importando os datasets](#importando-os-datasets)\n",
        "4. [Ativos e demitidos (com entrevistas)](#ativos-e-demitidos-com-entrevistas)\n",
        "    - [Colunas principais](#colunas-principais)\n",
        "    - [Coluna IDADE](#coluna-idade)\n",
        "    - [Coluna SEXO](#coluna-sexo)\n",
        "    - [Coluna DATA DE ADMISSÃO](#coluna-data-de-admissão)\n",
        "    - [Coluna DATA DE DEMISSÃO](#coluna-data-de-demissao)\n",
        "    - [Coluna]()\n",
        "5. [Análise de Demitidos Voluntários](#analise-demitidos-voluntarios)"
      ]
    },
    {
      "cell_type": "markdown",
      "metadata": {},
      "source": [
        "## Introdução"
      ]
    },
    {
      "cell_type": "markdown",
      "metadata": {},
      "source": [
        "Estamos lidando inicialmente com 2 datasets diferentes:\n",
        "\n",
        "- **SRA Ativo e Demitidos**: Tabela com a lista de funcionários ativos e desligados\n",
        "- **Entrevistas**: tabela com dados das entrevistas demessionais conduzidas com funcionários que pedem para ser desligados da companhia\n",
        "\n",
        "Abaixo iremos explorar melhor o que compõe cada dataset."
      ]
    },
    {
      "cell_type": "markdown",
      "metadata": {},
      "source": [
        "## Importando as dependências"
      ]
    },
    {
      "cell_type": "markdown",
      "metadata": {},
      "source": [
        "Dependências gerais"
      ]
    },
    {
      "cell_type": "code",
      "execution_count": 2,
      "metadata": {},
      "outputs": [],
      "source": [
        "import pandas as pd\n",
        "import numpy as np\n",
        "import seaborn as sns\n",
        "import matplotlib.pyplot as plt"
      ]
    },
    {
      "cell_type": "markdown",
      "metadata": {},
      "source": [
        "Dependência específica para usar o google colab"
      ]
    },
    {
      "cell_type": "code",
      "execution_count": null,
      "metadata": {
        "id": "V1GYIcjm44MZ"
      },
      "outputs": [],
      "source": [
        "from google.colab import drive\n",
        "drive.mount('/content/drive')"
      ]
    },
    {
      "cell_type": "markdown",
      "metadata": {},
      "source": [
        "## Importando os datasets"
      ]
    },
    {
      "cell_type": "code",
      "execution_count": 8,
      "metadata": {},
      "outputs": [],
      "source": [
        "sra = pd.read_excel(\"../data/SRA Ativo e Demitidos Ajustes.xlsx\")\n",
        "entrevistas = pd.read_excel(\"../data/Entrevistas Ajustes.xlsx\")"
      ]
    },
    {
      "cell_type": "markdown",
      "metadata": {
        "id": "M_Xyjy6ttAqS"
      },
      "source": [
        "Agrupamento dos `DataFrames` de pessoas Ativas e Demitidas com o de Entrevistas de Desligamento para facilitar análises e correlações abaixo."
      ]
    },
    {
      "cell_type": "code",
      "execution_count": 9,
      "metadata": {},
      "outputs": [],
      "source": [
        "sra = pd.merge(sra, entrevistas, how='left')"
      ]
    },
    {
      "cell_type": "markdown",
      "metadata": {},
      "source": [
        "## Ativos e Demitidos (com Entrevistas)"
      ]
    },
    {
      "cell_type": "markdown",
      "metadata": {},
      "source": [
        "Qual o aspecto geral do `DataFrame`?"
      ]
    },
    {
      "cell_type": "code",
      "execution_count": 10,
      "metadata": {},
      "outputs": [
        {
          "data": {
            "text/html": [
              "<div>\n",
              "<style scoped>\n",
              "    .dataframe tbody tr th:only-of-type {\n",
              "        vertical-align: middle;\n",
              "    }\n",
              "\n",
              "    .dataframe tbody tr th {\n",
              "        vertical-align: top;\n",
              "    }\n",
              "\n",
              "    .dataframe thead th {\n",
              "        text-align: right;\n",
              "    }\n",
              "</style>\n",
              "<table border=\"1\" class=\"dataframe\">\n",
              "  <thead>\n",
              "    <tr style=\"text-align: right;\">\n",
              "      <th></th>\n",
              "      <th>DESC.FIL</th>\n",
              "      <th>MATRICULA</th>\n",
              "      <th>FUNCAO</th>\n",
              "      <th>ADMISSAO</th>\n",
              "      <th>DEMISSAO</th>\n",
              "      <th>IDADE</th>\n",
              "      <th>SEXO</th>\n",
              "      <th>EST.CIVIL</th>\n",
              "      <th>SIT. FOLHA</th>\n",
              "      <th>DIRETOR</th>\n",
              "      <th>...</th>\n",
              "      <th>DESCR_RECISAO</th>\n",
              "      <th>CERTIFICAÇÕES</th>\n",
              "      <th>CARREIRA</th>\n",
              "      <th>DESENVOLVIMENTO PROFISSIONAL</th>\n",
              "      <th>REMUNERAÇÃO</th>\n",
              "      <th>BENEFÍCIOS</th>\n",
              "      <th>CLIMA</th>\n",
              "      <th>CULTURA</th>\n",
              "      <th>BEM ESTAR</th>\n",
              "      <th>OUTROS</th>\n",
              "    </tr>\n",
              "  </thead>\n",
              "  <tbody>\n",
              "    <tr>\n",
              "      <th>0</th>\n",
              "      <td>CANDELARIA II</td>\n",
              "      <td>168186</td>\n",
              "      <td>921</td>\n",
              "      <td>2011-11-07</td>\n",
              "      <td>2022-01-07 00:00:00</td>\n",
              "      <td>53</td>\n",
              "      <td>M</td>\n",
              "      <td>SOLTEIRO(A)</td>\n",
              "      <td>DEMITIDO</td>\n",
              "      <td>CLOUD PORTIFOLIO</td>\n",
              "      <td>...</td>\n",
              "      <td>DISPENSA SEM JUSTA CAUSA (API)</td>\n",
              "      <td>0</td>\n",
              "      <td>NaN</td>\n",
              "      <td>NaN</td>\n",
              "      <td>NaN</td>\n",
              "      <td>NaN</td>\n",
              "      <td>NaN</td>\n",
              "      <td>NaN</td>\n",
              "      <td>NaN</td>\n",
              "      <td>NaN</td>\n",
              "    </tr>\n",
              "    <tr>\n",
              "      <th>1</th>\n",
              "      <td>CANDELARIA II</td>\n",
              "      <td>236946</td>\n",
              "      <td>201</td>\n",
              "      <td>2014-02-05</td>\n",
              "      <td>2022-01-07 00:00:00</td>\n",
              "      <td>38</td>\n",
              "      <td>M</td>\n",
              "      <td>SOLTEIRO(A)</td>\n",
              "      <td>DEMITIDO</td>\n",
              "      <td>CLOUD PORTIFOLIO</td>\n",
              "      <td>...</td>\n",
              "      <td>PEDIDO DE DEMISSAO</td>\n",
              "      <td>0</td>\n",
              "      <td>1.0</td>\n",
              "      <td>1.0</td>\n",
              "      <td>1.0</td>\n",
              "      <td>1.0</td>\n",
              "      <td>1.0</td>\n",
              "      <td>0.0</td>\n",
              "      <td>1</td>\n",
              "      <td>1.0</td>\n",
              "    </tr>\n",
              "    <tr>\n",
              "      <th>2</th>\n",
              "      <td>CANDELARIA II</td>\n",
              "      <td>265449</td>\n",
              "      <td>604</td>\n",
              "      <td>2011-05-02</td>\n",
              "      <td>2022-01-03 00:00:00</td>\n",
              "      <td>35</td>\n",
              "      <td>M</td>\n",
              "      <td>CASADO(A)</td>\n",
              "      <td>DEMITIDO</td>\n",
              "      <td>CLIENTE E SALES</td>\n",
              "      <td>...</td>\n",
              "      <td>PEDIDO DE DEMISSAO</td>\n",
              "      <td>0</td>\n",
              "      <td>0.0</td>\n",
              "      <td>0.0</td>\n",
              "      <td>1.0</td>\n",
              "      <td>1.0</td>\n",
              "      <td>0.0</td>\n",
              "      <td>1.0</td>\n",
              "      <td>1</td>\n",
              "      <td>1.0</td>\n",
              "    </tr>\n",
              "    <tr>\n",
              "      <th>3</th>\n",
              "      <td>CANDELARIA II</td>\n",
              "      <td>280823</td>\n",
              "      <td>111</td>\n",
              "      <td>2015-09-08</td>\n",
              "      <td>2022-01-06 00:00:00</td>\n",
              "      <td>33</td>\n",
              "      <td>F</td>\n",
              "      <td>SOLTEIRO(A)</td>\n",
              "      <td>DEMITIDO</td>\n",
              "      <td>CLOUD PORTIFOLIO</td>\n",
              "      <td>...</td>\n",
              "      <td>DISPENSA SEM JUSTA CAUSA (API)</td>\n",
              "      <td>0</td>\n",
              "      <td>NaN</td>\n",
              "      <td>NaN</td>\n",
              "      <td>NaN</td>\n",
              "      <td>NaN</td>\n",
              "      <td>NaN</td>\n",
              "      <td>NaN</td>\n",
              "      <td>NaN</td>\n",
              "      <td>NaN</td>\n",
              "    </tr>\n",
              "    <tr>\n",
              "      <th>4</th>\n",
              "      <td>CANDELARIA II</td>\n",
              "      <td>294487</td>\n",
              "      <td>919</td>\n",
              "      <td>2016-10-03</td>\n",
              "      <td>2022-01-04 00:00:00</td>\n",
              "      <td>35</td>\n",
              "      <td>M</td>\n",
              "      <td>CASADO(A)</td>\n",
              "      <td>DEMITIDO</td>\n",
              "      <td>CLOUD PORTIFOLIO</td>\n",
              "      <td>...</td>\n",
              "      <td>PEDIDO DE DEMISSAO C/ DESC AVP</td>\n",
              "      <td>0</td>\n",
              "      <td>1.0</td>\n",
              "      <td>1.0</td>\n",
              "      <td>1.0</td>\n",
              "      <td>1.0</td>\n",
              "      <td>1.0</td>\n",
              "      <td>0.0</td>\n",
              "      <td>1</td>\n",
              "      <td>0.0</td>\n",
              "    </tr>\n",
              "  </tbody>\n",
              "</table>\n",
              "<p>5 rows × 23 columns</p>\n",
              "</div>"
            ],
            "text/plain": [
              "        DESC.FIL MATRICULA FUNCAO   ADMISSAO             DEMISSAO  IDADE SEXO  \\\n",
              "0  CANDELARIA II    168186    921 2011-11-07  2022-01-07 00:00:00     53    M   \n",
              "1  CANDELARIA II    236946    201 2014-02-05  2022-01-07 00:00:00     38    M   \n",
              "2  CANDELARIA II    265449    604 2011-05-02  2022-01-03 00:00:00     35    M   \n",
              "3  CANDELARIA II    280823    111 2015-09-08  2022-01-06 00:00:00     33    F   \n",
              "4  CANDELARIA II    294487    919 2016-10-03  2022-01-04 00:00:00     35    M   \n",
              "\n",
              "     EST.CIVIL SIT. FOLHA           DIRETOR  ...  \\\n",
              "0  SOLTEIRO(A)   DEMITIDO  CLOUD PORTIFOLIO  ...   \n",
              "1  SOLTEIRO(A)   DEMITIDO  CLOUD PORTIFOLIO  ...   \n",
              "2    CASADO(A)   DEMITIDO   CLIENTE E SALES  ...   \n",
              "3  SOLTEIRO(A)   DEMITIDO  CLOUD PORTIFOLIO  ...   \n",
              "4    CASADO(A)   DEMITIDO  CLOUD PORTIFOLIO  ...   \n",
              "\n",
              "                    DESCR_RECISAO CERTIFICAÇÕES CARREIRA  \\\n",
              "0  DISPENSA SEM JUSTA CAUSA (API)             0      NaN   \n",
              "1  PEDIDO DE DEMISSAO                         0      1.0   \n",
              "2  PEDIDO DE DEMISSAO                         0      0.0   \n",
              "3  DISPENSA SEM JUSTA CAUSA (API)             0      NaN   \n",
              "4  PEDIDO DE DEMISSAO C/ DESC AVP             0      1.0   \n",
              "\n",
              "  DESENVOLVIMENTO PROFISSIONAL  REMUNERAÇÃO  BENEFÍCIOS  CLIMA  CULTURA  \\\n",
              "0                          NaN          NaN         NaN    NaN      NaN   \n",
              "1                          1.0          1.0         1.0    1.0      0.0   \n",
              "2                          0.0          1.0         1.0    0.0      1.0   \n",
              "3                          NaN          NaN         NaN    NaN      NaN   \n",
              "4                          1.0          1.0         1.0    1.0      0.0   \n",
              "\n",
              "   BEM ESTAR  OUTROS  \n",
              "0        NaN     NaN  \n",
              "1          1     1.0  \n",
              "2          1     1.0  \n",
              "3        NaN     NaN  \n",
              "4          1     0.0  \n",
              "\n",
              "[5 rows x 23 columns]"
            ]
          },
          "execution_count": 10,
          "metadata": {},
          "output_type": "execute_result"
        }
      ],
      "source": [
        "sra.head()"
      ]
    },
    {
      "cell_type": "markdown",
      "metadata": {},
      "source": [
        "**Existem dados nulos? Quantos são?**\n",
        "\n",
        "Sim, nas colunas `DEMISSAO`, `SIT. FOLHA`, `TIPO DEMISSÃO`, `TIPO_RES`, `DESCR_RECISAO`, `COD_TO` e `MOTIVO TO`. Isso de deve ao fato de que nem todos na base são desligados, alguns ainda estão ativos. E para esses as colunas relativas à demissão estão vazias, como é de se esperar."
      ]
    },
    {
      "cell_type": "code",
      "execution_count": 11,
      "metadata": {},
      "outputs": [
        {
          "data": {
            "text/plain": [
              "DESC.FIL                           0\n",
              "MATRICULA                          0\n",
              "FUNCAO                             0\n",
              "ADMISSAO                           0\n",
              "DEMISSAO                        4046\n",
              "IDADE                              0\n",
              "SEXO                               0\n",
              "EST.CIVIL                          0\n",
              "SIT. FOLHA                         0\n",
              "DIRETOR                            0\n",
              "HOME                               0\n",
              "TIPO DEMISSÃO                   4046\n",
              "TIPO_RES                        4046\n",
              "DESCR_RECISAO                   4046\n",
              "CERTIFICAÇÕES                      0\n",
              "CARREIRA                        5099\n",
              "DESENVOLVIMENTO PROFISSIONAL    5099\n",
              "REMUNERAÇÃO                     5099\n",
              "BENEFÍCIOS                      5099\n",
              "CLIMA                           5099\n",
              "CULTURA                         5099\n",
              "BEM ESTAR                       5099\n",
              "OUTROS                          5099\n",
              "dtype: int64"
            ]
          },
          "execution_count": 11,
          "metadata": {},
          "output_type": "execute_result"
        }
      ],
      "source": [
        "sra = sra.replace(\"-\", np.nan)\n",
        "sra = sra.replace(\"/  /\", np.nan)\n",
        "sra.isnull().sum()"
      ]
    },
    {
      "cell_type": "markdown",
      "metadata": {},
      "source": [
        "**Quais as colunas, tipos e outras informações básicas?**\n",
        "\n",
        "Temos 6021 entradas (linhas) no total, e 23 colunas."
      ]
    },
    {
      "cell_type": "code",
      "execution_count": 14,
      "metadata": {},
      "outputs": [
        {
          "data": {
            "text/html": [
              "<div>\n",
              "<style scoped>\n",
              "    .dataframe tbody tr th:only-of-type {\n",
              "        vertical-align: middle;\n",
              "    }\n",
              "\n",
              "    .dataframe tbody tr th {\n",
              "        vertical-align: top;\n",
              "    }\n",
              "\n",
              "    .dataframe thead th {\n",
              "        text-align: right;\n",
              "    }\n",
              "</style>\n",
              "<table border=\"1\" class=\"dataframe\">\n",
              "  <thead>\n",
              "    <tr style=\"text-align: right;\">\n",
              "      <th></th>\n",
              "      <th>IDADE</th>\n",
              "      <th>TIPO_RES</th>\n",
              "      <th>CERTIFICAÇÕES</th>\n",
              "      <th>CARREIRA</th>\n",
              "      <th>DESENVOLVIMENTO PROFISSIONAL</th>\n",
              "      <th>REMUNERAÇÃO</th>\n",
              "      <th>BENEFÍCIOS</th>\n",
              "      <th>CLIMA</th>\n",
              "      <th>CULTURA</th>\n",
              "      <th>OUTROS</th>\n",
              "    </tr>\n",
              "  </thead>\n",
              "  <tbody>\n",
              "    <tr>\n",
              "      <th>count</th>\n",
              "      <td>6021.00000</td>\n",
              "      <td>1975.000000</td>\n",
              "      <td>6021.000000</td>\n",
              "      <td>922.000000</td>\n",
              "      <td>922.000000</td>\n",
              "      <td>922.000000</td>\n",
              "      <td>922.000000</td>\n",
              "      <td>922.000000</td>\n",
              "      <td>922.000000</td>\n",
              "      <td>922.000000</td>\n",
              "    </tr>\n",
              "    <tr>\n",
              "      <th>mean</th>\n",
              "      <td>37.04750</td>\n",
              "      <td>7.620253</td>\n",
              "      <td>0.425345</td>\n",
              "      <td>0.480477</td>\n",
              "      <td>0.670282</td>\n",
              "      <td>0.473970</td>\n",
              "      <td>0.668113</td>\n",
              "      <td>0.444685</td>\n",
              "      <td>0.409978</td>\n",
              "      <td>0.414317</td>\n",
              "    </tr>\n",
              "    <tr>\n",
              "      <th>std</th>\n",
              "      <td>10.24436</td>\n",
              "      <td>9.295585</td>\n",
              "      <td>1.701557</td>\n",
              "      <td>0.499890</td>\n",
              "      <td>0.470366</td>\n",
              "      <td>0.499593</td>\n",
              "      <td>0.471146</td>\n",
              "      <td>0.497201</td>\n",
              "      <td>0.492096</td>\n",
              "      <td>0.492871</td>\n",
              "    </tr>\n",
              "    <tr>\n",
              "      <th>min</th>\n",
              "      <td>15.00000</td>\n",
              "      <td>1.000000</td>\n",
              "      <td>0.000000</td>\n",
              "      <td>0.000000</td>\n",
              "      <td>0.000000</td>\n",
              "      <td>0.000000</td>\n",
              "      <td>0.000000</td>\n",
              "      <td>0.000000</td>\n",
              "      <td>0.000000</td>\n",
              "      <td>0.000000</td>\n",
              "    </tr>\n",
              "    <tr>\n",
              "      <th>25%</th>\n",
              "      <td>29.00000</td>\n",
              "      <td>3.000000</td>\n",
              "      <td>0.000000</td>\n",
              "      <td>0.000000</td>\n",
              "      <td>0.000000</td>\n",
              "      <td>0.000000</td>\n",
              "      <td>0.000000</td>\n",
              "      <td>0.000000</td>\n",
              "      <td>0.000000</td>\n",
              "      <td>0.000000</td>\n",
              "    </tr>\n",
              "    <tr>\n",
              "      <th>50%</th>\n",
              "      <td>36.00000</td>\n",
              "      <td>5.000000</td>\n",
              "      <td>0.000000</td>\n",
              "      <td>0.000000</td>\n",
              "      <td>1.000000</td>\n",
              "      <td>0.000000</td>\n",
              "      <td>1.000000</td>\n",
              "      <td>0.000000</td>\n",
              "      <td>0.000000</td>\n",
              "      <td>0.000000</td>\n",
              "    </tr>\n",
              "    <tr>\n",
              "      <th>75%</th>\n",
              "      <td>43.00000</td>\n",
              "      <td>6.000000</td>\n",
              "      <td>0.000000</td>\n",
              "      <td>1.000000</td>\n",
              "      <td>1.000000</td>\n",
              "      <td>1.000000</td>\n",
              "      <td>1.000000</td>\n",
              "      <td>1.000000</td>\n",
              "      <td>1.000000</td>\n",
              "      <td>1.000000</td>\n",
              "    </tr>\n",
              "    <tr>\n",
              "      <th>max</th>\n",
              "      <td>74.00000</td>\n",
              "      <td>42.000000</td>\n",
              "      <td>27.000000</td>\n",
              "      <td>1.000000</td>\n",
              "      <td>1.000000</td>\n",
              "      <td>1.000000</td>\n",
              "      <td>1.000000</td>\n",
              "      <td>1.000000</td>\n",
              "      <td>1.000000</td>\n",
              "      <td>1.000000</td>\n",
              "    </tr>\n",
              "  </tbody>\n",
              "</table>\n",
              "</div>"
            ],
            "text/plain": [
              "            IDADE     TIPO_RES  CERTIFICAÇÕES    CARREIRA  \\\n",
              "count  6021.00000  1975.000000    6021.000000  922.000000   \n",
              "mean     37.04750     7.620253       0.425345    0.480477   \n",
              "std      10.24436     9.295585       1.701557    0.499890   \n",
              "min      15.00000     1.000000       0.000000    0.000000   \n",
              "25%      29.00000     3.000000       0.000000    0.000000   \n",
              "50%      36.00000     5.000000       0.000000    0.000000   \n",
              "75%      43.00000     6.000000       0.000000    1.000000   \n",
              "max      74.00000    42.000000      27.000000    1.000000   \n",
              "\n",
              "       DESENVOLVIMENTO PROFISSIONAL  REMUNERAÇÃO  BENEFÍCIOS       CLIMA  \\\n",
              "count                    922.000000   922.000000  922.000000  922.000000   \n",
              "mean                       0.670282     0.473970    0.668113    0.444685   \n",
              "std                        0.470366     0.499593    0.471146    0.497201   \n",
              "min                        0.000000     0.000000    0.000000    0.000000   \n",
              "25%                        0.000000     0.000000    0.000000    0.000000   \n",
              "50%                        1.000000     0.000000    1.000000    0.000000   \n",
              "75%                        1.000000     1.000000    1.000000    1.000000   \n",
              "max                        1.000000     1.000000    1.000000    1.000000   \n",
              "\n",
              "          CULTURA      OUTROS  \n",
              "count  922.000000  922.000000  \n",
              "mean     0.409978    0.414317  \n",
              "std      0.492096    0.492871  \n",
              "min      0.000000    0.000000  \n",
              "25%      0.000000    0.000000  \n",
              "50%      0.000000    0.000000  \n",
              "75%      1.000000    1.000000  \n",
              "max      1.000000    1.000000  "
            ]
          },
          "execution_count": 14,
          "metadata": {},
          "output_type": "execute_result"
        }
      ],
      "source": [
        "sra.describe()"
      ]
    },
    {
      "cell_type": "code",
      "execution_count": 12,
      "metadata": {},
      "outputs": [
        {
          "name": "stdout",
          "output_type": "stream",
          "text": [
            "<class 'pandas.core.frame.DataFrame'>\n",
            "Int64Index: 6021 entries, 0 to 6020\n",
            "Data columns (total 23 columns):\n",
            " #   Column                        Non-Null Count  Dtype         \n",
            "---  ------                        --------------  -----         \n",
            " 0   DESC.FIL                      6021 non-null   object        \n",
            " 1   MATRICULA                     6021 non-null   object        \n",
            " 2   FUNCAO                        6021 non-null   object        \n",
            " 3   ADMISSAO                      6021 non-null   datetime64[ns]\n",
            " 4   DEMISSAO                      1975 non-null   datetime64[ns]\n",
            " 5   IDADE                         6021 non-null   int64         \n",
            " 6   SEXO                          6021 non-null   object        \n",
            " 7   EST.CIVIL                     6021 non-null   object        \n",
            " 8   SIT. FOLHA                    6021 non-null   object        \n",
            " 9   DIRETOR                       6021 non-null   object        \n",
            " 10  HOME                          6021 non-null   object        \n",
            " 11  TIPO DEMISSÃO                 1975 non-null   object        \n",
            " 12  TIPO_RES                      1975 non-null   float64       \n",
            " 13  DESCR_RECISAO                 1975 non-null   object        \n",
            " 14  CERTIFICAÇÕES                 6021 non-null   int64         \n",
            " 15  CARREIRA                      922 non-null    float64       \n",
            " 16  DESENVOLVIMENTO PROFISSIONAL  922 non-null    float64       \n",
            " 17  REMUNERAÇÃO                   922 non-null    float64       \n",
            " 18  BENEFÍCIOS                    922 non-null    float64       \n",
            " 19  CLIMA                         922 non-null    float64       \n",
            " 20  CULTURA                       922 non-null    float64       \n",
            " 21  BEM ESTAR                     922 non-null    object        \n",
            " 22  OUTROS                        922 non-null    float64       \n",
            "dtypes: datetime64[ns](2), float64(8), int64(2), object(11)\n",
            "memory usage: 1.1+ MB\n"
          ]
        }
      ],
      "source": [
        "sra.info()"
      ]
    },
    {
      "cell_type": "code",
      "execution_count": 15,
      "metadata": {},
      "outputs": [
        {
          "name": "stdout",
          "output_type": "stream",
          "text": [
            "O DataFrame tem 23 colunas.\n",
            "\n",
            "A coluna DESC.FIL tem o tipo string.\n",
            "A coluna MATRICULA tem o tipo string.\n",
            "A coluna FUNCAO tem o tipo string.\n",
            "A coluna ADMISSAO tem o tipo datetime64[ns].\n",
            "A coluna DEMISSAO tem o tipo datetime64[ns].\n",
            "A coluna IDADE tem o tipo int64.\n",
            "A coluna SEXO tem o tipo string.\n",
            "A coluna EST.CIVIL tem o tipo string.\n",
            "A coluna SIT. FOLHA tem o tipo string.\n",
            "A coluna DIRETOR tem o tipo string.\n",
            "A coluna HOME tem o tipo string.\n",
            "A coluna TIPO DEMISSÃO tem o tipo string.\n",
            "A coluna TIPO_RES tem o tipo float64.\n",
            "A coluna DESCR_RECISAO tem o tipo string.\n",
            "A coluna CERTIFICAÇÕES tem o tipo int64.\n",
            "A coluna CARREIRA tem o tipo float64.\n",
            "A coluna DESENVOLVIMENTO PROFISSIONAL tem o tipo float64.\n",
            "A coluna REMUNERAÇÃO tem o tipo float64.\n",
            "A coluna BENEFÍCIOS tem o tipo float64.\n",
            "A coluna CLIMA tem o tipo float64.\n",
            "A coluna CULTURA tem o tipo float64.\n",
            "A coluna BEM ESTAR tem o tipo string.\n",
            "A coluna OUTROS tem o tipo float64.\n"
          ]
        }
      ],
      "source": [
        "print(f\"O DataFrame tem {len(sra.columns)} colunas.\\n\")\n",
        "\n",
        "for column in sra.columns:\n",
        "    print(\n",
        "        f\"A coluna {column} tem o tipo {'string' if sra[column].dtype == 'object' else sra[column].dtype}.\")"
      ]
    },
    {
      "cell_type": "markdown",
      "metadata": {},
      "source": [
        "### Colunas principais"
      ]
    },
    {
      "cell_type": "markdown",
      "metadata": {},
      "source": [
        "|Coluna|Descrição|\n",
        "|---|---|\n",
        "|IDADE|Idade em que a pessoa foi desligada|\n",
        "|SEXO|Dado categórico, dividido em Masculino e Feminino|\n",
        "|DATA DE ADMISSÃO|Data em que a pessoa foi contratada|\n",
        "|DATA DE DEMISSÃO|Data em que foi desligada (voluntariamente ou não), o que nos permite calcular (junto da coluna acima) o tempo de permanência da pessoa na empresa|\n",
        "|SALÁRIO|Valor bruto, em Reais, recebido pela pessoa|\n",
        "|ESTADO|Estado brasileiro (note que só temos dados do Brasil) de residência da pessoa|\n",
        "|TIPO DE DEMISSÃO|Se forçada (PROVOCADO) ou voluntária (VOLUNTARIA) ou se a pessoa estava em período de experiência (EXPERIENCIA)|\n",
        "|CERTIFICAÇÕES|Quantas certificações (quantidade numérica) os funcionários eventualmente possuem|\n",
        "|CARREIRA|Avaliação, 0 se negativa, 1 se positiva, que os usuários dão ao deixar a empresa sobre desenvolvimento de carreira|\n",
        "|REMUNERAÇÃO|Avaliação, 0 se negativa, 1 se positiva, que os usuários dão ao deixar a empresa sobre remuneração|\n",
        "|BENEFÍCIOS|Avaliação, 0 se negativa, 1 se positiva, que os usuários dão ao deixar a empresa sobre os benefícios (vale alimentação, plano de saúde, &c)|\n",
        "|CLIMA|Avaliação, 0 se negativa, 1 se positiva, que os usuários dão ao deixar a empresa sobre o clima na empresa|\n"
      ]
    },
    {
      "cell_type": "markdown",
      "metadata": {},
      "source": [
        "### Coluna IDADE"
      ]
    },
    {
      "cell_type": "code",
      "execution_count": null,
      "metadata": {},
      "outputs": [
        {
          "data": {
            "text/plain": [
              "<Axes: xlabel='IDADE', ylabel='Count'>"
            ]
          },
          "metadata": {},
          "output_type": "display_data"
        },
        {
          "data": {
            "image/png": "[encoded data removed]",
            "text/plain": [
              "<Figure size 640x480 with 1 Axes>"
            ]
          },
          "metadata": {},
          "output_type": "display_data"
        }
      ],
      "source": [
        "sns.histplot(data=sra, x='IDADE', binwidth=3)"
      ]
    },
    {
      "cell_type": "code",
      "execution_count": null,
      "metadata": {},
      "outputs": [
        {
          "data": {
            "text/plain": [
              "0.05    22.0\n",
              "0.10    24.0\n",
              "0.25    29.0\n",
              "0.50    36.0\n",
              "0.75    43.0\n",
              "0.95    56.0\n",
              "Name: IDADE, dtype: float64"
            ]
          },
          "metadata": {},
          "output_type": "display_data"
        }
      ],
      "source": [
        "sra['IDADE'].quantile([.05, .1, .25, .5, .75, .95])"
      ]
    },
    {
      "cell_type": "code",
      "execution_count": null,
      "metadata": {},
      "outputs": [
        {
          "data": {
            "text/plain": [
              "count    6020.000000\n",
              "mean       37.043023\n",
              "std        10.239318\n",
              "min        15.000000\n",
              "25%        29.000000\n",
              "50%        36.000000\n",
              "75%        43.000000\n",
              "max        74.000000\n",
              "Name: IDADE, dtype: float64"
            ]
          },
          "metadata": {},
          "output_type": "display_data"
        }
      ],
      "source": [
        "sra['IDADE'].describe()"
      ]
    },
    {
      "cell_type": "markdown",
      "metadata": {},
      "source": [
        "#### Coluna SEXO"
      ]
    },
    {
      "cell_type": "markdown",
      "metadata": {},
      "source": [
        "Abaixo vemos a distribuição entre os sexos."
      ]
    },
    {
      "cell_type": "code",
      "execution_count": null,
      "metadata": {},
      "outputs": [
        {
          "data": {
            "text/plain": [
              "M    4419\n",
              "F    1601\n",
              "Name: SEXO, dtype: int64"
            ]
          },
          "metadata": {},
          "output_type": "display_data"
        }
      ],
      "source": [
        "sra['SEXO'].value_counts()"
      ]
    },
    {
      "cell_type": "markdown",
      "metadata": {},
      "source": [
        "E abaixo o histograma"
      ]
    },
    {
      "cell_type": "code",
      "execution_count": null,
      "metadata": {},
      "outputs": [
        {
          "data": {
            "text/plain": [
              "<Axes: xlabel='SEXO', ylabel='Count'>"
            ]
          },
          "metadata": {},
          "output_type": "display_data"
        },
        {
          "data": {
            "image/png": "[encoded data removed]",
            "text/plain": [
              "<Figure size 640x480 with 1 Axes>"
            ]
          },
          "metadata": {},
          "output_type": "display_data"
        }
      ],
      "source": [
        "sns.set_theme(style='whitegrid')\n",
        "sns.histplot(data=sra, x='SEXO')"
      ]
    },
    {
      "cell_type": "markdown",
      "metadata": {},
      "source": [
        "#### Coluna DATA DE ADMISSÃO"
      ]
    },
    {
      "cell_type": "markdown",
      "metadata": {},
      "source": [
        "Convertendo os dados para `datetime`"
      ]
    },
    {
      "cell_type": "code",
      "execution_count": null,
      "metadata": {},
      "outputs": [],
      "source": [
        "hire_date = pd.to_datetime(sra['ADMISSAO'])"
      ]
    },
    {
      "cell_type": "markdown",
      "metadata": {},
      "source": [
        "Abaixo vemos a distribuição dos dados"
      ]
    },
    {
      "cell_type": "code",
      "execution_count": null,
      "metadata": {},
      "outputs": [
        {
          "data": {
            "text/plain": [
              "<Axes: xlabel='ADMISSAO', ylabel='Count'>"
            ]
          },
          "metadata": {},
          "output_type": "display_data"
        },
        {
          "data": {
            "image/png": "[encoded data removed]",
            "text/plain": [
              "<Figure size 640x480 with 1 Axes>"
            ]
          },
          "metadata": {},
          "output_type": "display_data"
        }
      ],
      "source": [
        "sns.histplot(data=hire_date)"
      ]
    },
    {
      "cell_type": "markdown",
      "metadata": {},
      "source": [
        "Descrevendo os dados um pouco mais de perto 👇"
      ]
    },
    {
      "cell_type": "code",
      "execution_count": null,
      "metadata": {},
      "outputs": [
        {
          "name": "stderr",
          "output_type": "stream",
          "text": [
            "/var/folders/dm/yn213p851td579hjmn729b0m0000gn/T/ipykernel_9195/293986355.py:1: FutureWarning: Treating datetime data as categorical rather than numeric in `.describe` is deprecated and will be removed in a future version of pandas. Specify `datetime_is_numeric=True` to silence this warning and adopt the future behavior now.\n",
            "  hire_date.describe()\n"
          ]
        },
        {
          "data": {
            "text/plain": [
              "count                    6020\n",
              "unique                   1788\n",
              "top       2023-07-03 00:00:00\n",
              "freq                       59\n",
              "first     1985-01-02 00:00:00\n",
              "last      2023-07-27 00:00:00\n",
              "Name: ADMISSAO, dtype: object"
            ]
          },
          "metadata": {},
          "output_type": "display_data"
        }
      ],
      "source": [
        "hire_date.describe()"
      ]
    },
    {
      "cell_type": "markdown",
      "metadata": {},
      "source": [
        "Quantas pessoas foram contratadas antes do ano 2000?"
      ]
    },
    {
      "cell_type": "code",
      "execution_count": null,
      "metadata": {},
      "outputs": [
        {
          "data": {
            "text/plain": [
              "24"
            ]
          },
          "metadata": {},
          "output_type": "display_data"
        }
      ],
      "source": [
        "hire_date[hire_date < '2000'].value_counts().sum()"
      ]
    },
    {
      "cell_type": "markdown",
      "metadata": {},
      "source": [
        "E os percentis? Como os dados estão distribuídos?"
      ]
    },
    {
      "cell_type": "code",
      "execution_count": null,
      "metadata": {},
      "outputs": [
        {
          "data": {
            "text/plain": [
              "0.10    2012-04-30\n",
              "0.25    2017-01-29\n",
              "0.50    2020-08-19\n",
              "0.75    2022-04-05\n",
              "0.95    2023-05-15\n",
              "Name: ADMISSAO, dtype: object"
            ]
          },
          "metadata": {},
          "output_type": "display_data"
        }
      ],
      "source": [
        "hire_date.quantile([.1, .25, .5, .75, .95]).dt.date"
      ]
    },
    {
      "cell_type": "markdown",
      "metadata": {},
      "source": [
        "### Coluna DATA DE DEMISSAO"
      ]
    },
    {
      "cell_type": "markdown",
      "metadata": {},
      "source": [
        "Convertendo para `datetime`"
      ]
    },
    {
      "cell_type": "code",
      "execution_count": null,
      "metadata": {},
      "outputs": [],
      "source": [
        "fire_date = pd.to_datetime(sra['DEMISSAO'])"
      ]
    },
    {
      "cell_type": "markdown",
      "metadata": {},
      "source": [
        "**Quando a data de demissão é nula, as outras colunas de interesse também são?** Não, apenas o tipo de demissão é nulo quando a data de demissão o é. Ou seja, provavelmente faz sentido manter as linhas em que a data de demissão é nula."
      ]
    },
    {
      "cell_type": "code",
      "execution_count": null,
      "metadata": {},
      "outputs": [
        {
          "data": {
            "text/plain": [
              "0"
            ]
          },
          "metadata": {},
          "output_type": "display_data"
        }
      ],
      "source": [
        "sra['ADMISSAO'][fire_date.isnull()].isnull().sum()"
      ]
    },
    {
      "cell_type": "code",
      "execution_count": null,
      "metadata": {},
      "outputs": [
        {
          "data": {
            "text/plain": [
              "0"
            ]
          },
          "metadata": {},
          "output_type": "display_data"
        }
      ],
      "source": [
        "sra['SALARIO'][fire_date.isnull()].isnull().sum()"
      ]
    },
    {
      "cell_type": "code",
      "execution_count": null,
      "metadata": {},
      "outputs": [
        {
          "data": {
            "text/plain": [
              "4046"
            ]
          },
          "metadata": {},
          "output_type": "display_data"
        }
      ],
      "source": [
        "sra['TIPO DEMISSÃO'][fire_date.isnull()].isnull().sum()"
      ]
    },
    {
      "cell_type": "markdown",
      "metadata": {},
      "source": [
        "Qual a demissão mais antiga e a mais recente?"
      ]
    },
    {
      "cell_type": "code",
      "execution_count": null,
      "metadata": {},
      "outputs": [
        {
          "data": {
            "text/plain": [
              "2022-01-03    38\n",
              "2022-01-04    13\n",
              "2022-01-05     9\n",
              "2022-01-06     3\n",
              "2022-01-07    15\n",
              "              ..\n",
              "2023-07-19     1\n",
              "2023-07-26     2\n",
              "2023-07-27     1\n",
              "2023-07-28     2\n",
              "2023-07-31     3\n",
              "Name: DEMISSAO, Length: 392, dtype: int64"
            ]
          },
          "metadata": {},
          "output_type": "display_data"
        }
      ],
      "source": [
        "fire_date.value_counts().sort_index()"
      ]
    },
    {
      "cell_type": "markdown",
      "metadata": {},
      "source": [
        "Qual a distribuição das datas? Qual a média por mês?"
      ]
    },
    {
      "cell_type": "code",
      "execution_count": null,
      "metadata": {},
      "outputs": [],
      "source": [
        "fire_date_month = fire_date.dropna().apply(lambda date: date.strftime('%Y-%m'))"
      ]
    },
    {
      "cell_type": "code",
      "execution_count": null,
      "metadata": {},
      "outputs": [
        {
          "data": {
            "text/plain": [
              "count     19.000000\n",
              "mean     103.894737\n",
              "std       21.042008\n",
              "min       44.000000\n",
              "25%       97.000000\n",
              "50%      105.000000\n",
              "75%      112.000000\n",
              "max      148.000000\n",
              "Name: DEMISSAO, dtype: float64"
            ]
          },
          "metadata": {},
          "output_type": "display_data"
        }
      ],
      "source": [
        "fire_date_month.value_counts().describe()"
      ]
    },
    {
      "cell_type": "code",
      "execution_count": null,
      "metadata": {},
      "outputs": [
        {
          "data": {
            "text/plain": [
              "<Axes: xlabel='DEMISSAO', ylabel='Count'>"
            ]
          },
          "metadata": {},
          "output_type": "display_data"
        },
        {
          "data": {
            "image/png": "[encoded data removed]",
            "text/plain": [
              "<Figure size 1600x700 with 1 Axes>"
            ]
          },
          "metadata": {},
          "output_type": "display_data"
        }
      ],
      "source": [
        "plt.figure(figsize=(16, 7))\n",
        "sns.histplot(data=fire_date_month)"
      ]
    },
    {
      "cell_type": "markdown",
      "metadata": {},
      "source": [
        "### Coluna TIPO DE DEMISSÃO"
      ]
    },
    {
      "cell_type": "code",
      "execution_count": 20,
      "metadata": {},
      "outputs": [
        {
          "data": {
            "text/plain": [
              "array(['PROVOCADO', 'VOLUNTARIO', 'EXPERIENCIA', nan], dtype=object)"
            ]
          },
          "execution_count": 20,
          "metadata": {},
          "output_type": "execute_result"
        }
      ],
      "source": [
        "sra['TIPO DEMISSÃO'].unique()"
      ]
    },
    {
      "cell_type": "code",
      "execution_count": 19,
      "metadata": {},
      "outputs": [
        {
          "data": {
            "text/plain": [
              "count           1975\n",
              "unique             3\n",
              "top       VOLUNTARIO\n",
              "freq             922\n",
              "Name: TIPO DEMISSÃO, dtype: object"
            ]
          },
          "execution_count": 19,
          "metadata": {},
          "output_type": "execute_result"
        }
      ],
      "source": [
        "sra['TIPO DEMISSÃO'].describe()"
      ]
    },
    {
      "cell_type": "code",
      "execution_count": 22,
      "metadata": {},
      "outputs": [
        {
          "data": {
            "text/plain": [
              "Text(0.5, 1.0, 'Distribuição dos tipos de demissão')"
            ]
          },
          "execution_count": 22,
          "metadata": {},
          "output_type": "execute_result"
        },
        {
          "data": {
            "image/png": "[encoded data removed]",
            "text/plain": [
              "<Figure size 1000x600 with 1 Axes>"
            ]
          },
          "metadata": {},
          "output_type": "display_data"
        }
      ],
      "source": [
        "sns.set_theme(style='whitegrid')\n",
        "\n",
        "plt.figure(figsize=(10, 6))\n",
        "sns.histplot(data=sra, x='TIPO DEMISSÃO')\n",
        "\n",
        "plt.xlabel('Tipo de demissão')\n",
        "plt.ylabel('Frequência')\n",
        "plt.title('Distribuição dos tipos de demissão')"
      ]
    },
    {
      "cell_type": "code",
      "execution_count": 24,
      "metadata": {},
      "outputs": [
        {
          "data": {
            "text/plain": [
              "VOLUNTARIO     922\n",
              "PROVOCADO      890\n",
              "EXPERIENCIA    163\n",
              "Name: TIPO DEMISSÃO, dtype: int64"
            ]
          },
          "execution_count": 24,
          "metadata": {},
          "output_type": "execute_result"
        }
      ],
      "source": [
        "sra['TIPO DEMISSÃO'].value_counts()"
      ]
    },
    {
      "cell_type": "markdown",
      "metadata": {},
      "source": [
        "### Coluna CERTIFICAÇÕES"
      ]
    },
    {
      "cell_type": "code",
      "execution_count": 25,
      "metadata": {},
      "outputs": [
        {
          "data": {
            "text/plain": [
              "count    6021.000000\n",
              "mean        0.425345\n",
              "std         1.701557\n",
              "min         0.000000\n",
              "25%         0.000000\n",
              "50%         0.000000\n",
              "75%         0.000000\n",
              "max        27.000000\n",
              "Name: CERTIFICAÇÕES, dtype: float64"
            ]
          },
          "execution_count": 25,
          "metadata": {},
          "output_type": "execute_result"
        }
      ],
      "source": [
        "sra['CERTIFICAÇÕES'].describe()"
      ]
    },
    {
      "cell_type": "code",
      "execution_count": 28,
      "metadata": {},
      "outputs": [
        {
          "data": {
            "text/plain": [
              "Text(0.5, 1.0, 'Distribuição da quatidade de certificações')"
            ]
          },
          "execution_count": 28,
          "metadata": {},
          "output_type": "execute_result"
        },
        {
          "data": {
            "image/png": "[encoded data removed]",
            "text/plain": [
              "<Figure size 1000x600 with 1 Axes>"
            ]
          },
          "metadata": {},
          "output_type": "display_data"
        }
      ],
      "source": [
        "sns.set_theme(style='whitegrid')\n",
        "\n",
        "plt.figure(figsize=(10, 6))\n",
        "sns.histplot(data=sra, x='CERTIFICAÇÕES')\n",
        "\n",
        "plt.xlabel('Quantidade de certificações por funcionário')\n",
        "plt.ylabel('Frequência')\n",
        "plt.title('Distribuição da quatidade de certificações')"
      ]
    },
    {
      "cell_type": "code",
      "execution_count": 29,
      "metadata": {},
      "outputs": [
        {
          "data": {
            "text/plain": [
              "0.10    0.0\n",
              "0.25    0.0\n",
              "0.50    0.0\n",
              "0.75    0.0\n",
              "0.95    3.0\n",
              "0.99    8.0\n",
              "Name: CERTIFICAÇÕES, dtype: float64"
            ]
          },
          "execution_count": 29,
          "metadata": {},
          "output_type": "execute_result"
        }
      ],
      "source": [
        "sra['CERTIFICAÇÕES'].quantile([.1, .25, .5, .75, .95, .99])"
      ]
    },
    {
      "cell_type": "code",
      "execution_count": 30,
      "metadata": {},
      "outputs": [
        {
          "name": "stdout",
          "output_type": "stream",
          "text": [
            "O mínimo de certificações é 0\n",
            "O máximo de certificações é 27\n"
          ]
        }
      ],
      "source": [
        "print(f\"O mínimo de certificações é {sra['CERTIFICAÇÕES'].min()}\")\n",
        "print(f\"O máximo de certificações é {sra['CERTIFICAÇÕES'].max()}\")"
      ]
    },
    {
      "cell_type": "markdown",
      "metadata": {
        "id": "LLqlj42VUEPv"
      },
      "source": [
        "## Analise Demitidos Voluntarios"
      ]
    },
    {
      "cell_type": "code",
      "execution_count": 78,
      "metadata": {
        "colab": {
          "base_uri": "https://localhost:8080/"
        },
        "id": "qmq-4uIk_0K6",
        "outputId": "e980d75d-42a9-47cb-f842-1d928332962b"
      },
      "outputs": [
        {
          "data": {
            "text/plain": [
              "CLOUD PORTIFOLIO      658\n",
              "CLIENTE E SALES       101\n",
              "CLOUD & TECHNOLOGY     69\n",
              "TAKODA                 31\n",
              "P&C                    30\n",
              "TECHFIN                10\n",
              "SALES                  10\n",
              "FINANCE                 8\n",
              "TREASURY                4\n",
              "JURIDICAL               1\n",
              "Name: DIRETOR, dtype: int64"
            ]
          },
          "execution_count": 78,
          "metadata": {},
          "output_type": "execute_result"
        }
      ],
      "source": [
        "Analise_Demitidos = sra[(sra['SIT. FOLHA']=='DEMITIDO') & (sra['TIPO DEMISSÃO']=='VOLUNTARIO')]\n",
        "Analise_Demitidos['DIRETOR'].value_counts()"
      ]
    },
    {
      "cell_type": "code",
      "execution_count": 55,
      "metadata": {
        "colab": {
          "base_uri": "https://localhost:8080/"
        },
        "id": "EPDNP7wffgaz",
        "outputId": "98b6aec9-7b0d-4393-e3a7-01d2ff722068"
      },
      "outputs": [
        {
          "data": {
            "text/plain": [
              "DIRETOR             SEXO\n",
              "CLIENTE E SALES     F        28\n",
              "                    M        73\n",
              "CLOUD & TECHNOLOGY  F        17\n",
              "                    M        52\n",
              "CLOUD PORTIFOLIO    F       156\n",
              "                    M       502\n",
              "FINANCE             F         6\n",
              "                    M         2\n",
              "JURIDICAL           M         1\n",
              "P&C                 F        21\n",
              "                    M         9\n",
              "SALES               F         3\n",
              "                    M         7\n",
              "TAKODA              F         6\n",
              "                    M        25\n",
              "TECHFIN             F         3\n",
              "                    M         7\n",
              "TREASURY            F         2\n",
              "                    M         2\n",
              "dtype: int64"
            ]
          },
          "execution_count": 55,
          "metadata": {},
          "output_type": "execute_result"
        }
      ],
      "source": [
        "Analise_Demitidos[['DIRETOR','SEXO']].groupby(['DIRETOR','SEXO']).size()"
      ]
    },
    {
      "cell_type": "code",
      "execution_count": 64,
      "metadata": {
        "colab": {
          "base_uri": "https://localhost:8080/",
          "height": 394
        },
        "id": "NKgVHM0bjEq7",
        "outputId": "4329d033-0f98-4ce0-88a9-1949b31d3128"
      },
      "outputs": [
        {
          "data": {
            "text/html": [
              "\n",
              "  <div id=\"df-44cf5008-8991-4980-b568-8d6674c7353c\" class=\"colab-df-container\">\n",
              "    <div>\n",
              "<style scoped>\n",
              "    .dataframe tbody tr th:only-of-type {\n",
              "        vertical-align: middle;\n",
              "    }\n",
              "\n",
              "    .dataframe tbody tr th {\n",
              "        vertical-align: top;\n",
              "    }\n",
              "\n",
              "    .dataframe thead th {\n",
              "        text-align: right;\n",
              "    }\n",
              "</style>\n",
              "<table border=\"1\" class=\"dataframe\">\n",
              "  <thead>\n",
              "    <tr style=\"text-align: right;\">\n",
              "      <th></th>\n",
              "      <th>max</th>\n",
              "      <th>min</th>\n",
              "      <th>mean</th>\n",
              "      <th>median</th>\n",
              "    </tr>\n",
              "    <tr>\n",
              "      <th>DIRETOR</th>\n",
              "      <th></th>\n",
              "      <th></th>\n",
              "      <th></th>\n",
              "      <th></th>\n",
              "    </tr>\n",
              "  </thead>\n",
              "  <tbody>\n",
              "    <tr>\n",
              "      <th>CLIENTE E SALES</th>\n",
              "      <td>57</td>\n",
              "      <td>18</td>\n",
              "      <td>34.821782</td>\n",
              "      <td>33.0</td>\n",
              "    </tr>\n",
              "    <tr>\n",
              "      <th>CLOUD &amp; TECHNOLOGY</th>\n",
              "      <td>53</td>\n",
              "      <td>19</td>\n",
              "      <td>33.681159</td>\n",
              "      <td>32.0</td>\n",
              "    </tr>\n",
              "    <tr>\n",
              "      <th>CLOUD PORTIFOLIO</th>\n",
              "      <td>68</td>\n",
              "      <td>18</td>\n",
              "      <td>35.735562</td>\n",
              "      <td>35.0</td>\n",
              "    </tr>\n",
              "    <tr>\n",
              "      <th>FINANCE</th>\n",
              "      <td>49</td>\n",
              "      <td>22</td>\n",
              "      <td>32.125000</td>\n",
              "      <td>31.0</td>\n",
              "    </tr>\n",
              "    <tr>\n",
              "      <th>JURIDICAL</th>\n",
              "      <td>34</td>\n",
              "      <td>34</td>\n",
              "      <td>34.000000</td>\n",
              "      <td>34.0</td>\n",
              "    </tr>\n",
              "    <tr>\n",
              "      <th>P&amp;C</th>\n",
              "      <td>53</td>\n",
              "      <td>18</td>\n",
              "      <td>31.100000</td>\n",
              "      <td>31.5</td>\n",
              "    </tr>\n",
              "    <tr>\n",
              "      <th>SALES</th>\n",
              "      <td>48</td>\n",
              "      <td>27</td>\n",
              "      <td>34.100000</td>\n",
              "      <td>32.5</td>\n",
              "    </tr>\n",
              "    <tr>\n",
              "      <th>TAKODA</th>\n",
              "      <td>56</td>\n",
              "      <td>20</td>\n",
              "      <td>34.935484</td>\n",
              "      <td>33.0</td>\n",
              "    </tr>\n",
              "    <tr>\n",
              "      <th>TECHFIN</th>\n",
              "      <td>45</td>\n",
              "      <td>18</td>\n",
              "      <td>32.300000</td>\n",
              "      <td>32.0</td>\n",
              "    </tr>\n",
              "    <tr>\n",
              "      <th>TREASURY</th>\n",
              "      <td>37</td>\n",
              "      <td>20</td>\n",
              "      <td>28.750000</td>\n",
              "      <td>29.0</td>\n",
              "    </tr>\n",
              "  </tbody>\n",
              "</table>\n",
              "</div>\n",
              "    <div class=\"colab-df-buttons\">\n",
              "\n",
              "  <div class=\"colab-df-container\">\n",
              "    <button class=\"colab-df-convert\" onclick=\"convertToInteractive('df-44cf5008-8991-4980-b568-8d6674c7353c')\"\n",
              "            title=\"Convert this dataframe to an interactive table.\"\n",
              "            style=\"display:none;\">\n",
              "\n",
              "  <svg xmlns=\"http://www.w3.org/2000/svg\" height=\"24px\" viewBox=\"0 -960 960 960\">\n",
              "    <path d=\"M120-120v-720h720v720H120Zm60-500h600v-160H180v160Zm220 220h160v-160H400v160Zm0 220h160v-160H400v160ZM180-400h160v-160H180v160Zm440 0h160v-160H620v160ZM180-180h160v-160H180v160Zm440 0h160v-160H620v160Z\"/>\n",
              "  </svg>\n",
              "    </button>\n",
              "\n",
              "  <style>\n",
              "    .colab-df-container {\n",
              "      display:flex;\n",
              "      gap: 12px;\n",
              "    }\n",
              "\n",
              "    .colab-df-convert {\n",
              "      background-color: #E8F0FE;\n",
              "      border: none;\n",
              "      border-radius: 50%;\n",
              "      cursor: pointer;\n",
              "      display: none;\n",
              "      fill: #1967D2;\n",
              "      height: 32px;\n",
              "      padding: 0 0 0 0;\n",
              "      width: 32px;\n",
              "    }\n",
              "\n",
              "    .colab-df-convert:hover {\n",
              "      background-color: #E2EBFA;\n",
              "      box-shadow: 0px 1px 2px rgba(60, 64, 67, 0.3), 0px 1px 3px 1px rgba(60, 64, 67, 0.15);\n",
              "      fill: #174EA6;\n",
              "    }\n",
              "\n",
              "    .colab-df-buttons div {\n",
              "      margin-bottom: 4px;\n",
              "    }\n",
              "\n",
              "    [theme=dark] .colab-df-convert {\n",
              "      background-color: #3B4455;\n",
              "      fill: #D2E3FC;\n",
              "    }\n",
              "\n",
              "    [theme=dark] .colab-df-convert:hover {\n",
              "      background-color: #434B5C;\n",
              "      box-shadow: 0px 1px 3px 1px rgba(0, 0, 0, 0.15);\n",
              "      filter: drop-shadow(0px 1px 2px rgba(0, 0, 0, 0.3));\n",
              "      fill: #FFFFFF;\n",
              "    }\n",
              "  </style>\n",
              "\n",
              "    <script>\n",
              "      const buttonEl =\n",
              "        document.querySelector('#df-44cf5008-8991-4980-b568-8d6674c7353c button.colab-df-convert');\n",
              "      buttonEl.style.display =\n",
              "        google.colab.kernel.accessAllowed ? 'block' : 'none';\n",
              "\n",
              "      async function convertToInteractive(key) {\n",
              "        const element = document.querySelector('#df-44cf5008-8991-4980-b568-8d6674c7353c');\n",
              "        const dataTable =\n",
              "          await google.colab.kernel.invokeFunction('convertToInteractive',\n",
              "                                                    [key], {});\n",
              "        if (!dataTable) return;\n",
              "\n",
              "        const docLinkHtml = 'Like what you see? Visit the ' +\n",
              "          '<a target=\"_blank\" href=https://colab.research.google.com/notebooks/data_table.ipynb>data table notebook</a>'\n",
              "          + ' to learn more about interactive tables.';\n",
              "        element.innerHTML = '';\n",
              "        dataTable['output_type'] = 'display_data';\n",
              "        await google.colab.output.renderOutput(dataTable, element);\n",
              "        const docLink = document.createElement('div');\n",
              "        docLink.innerHTML = docLinkHtml;\n",
              "        element.appendChild(docLink);\n",
              "      }\n",
              "    </script>\n",
              "  </div>\n",
              "\n",
              "\n",
              "<div id=\"df-c3b7ddca-ca04-47bb-8aa6-3925f98df2ec\">\n",
              "  <button class=\"colab-df-quickchart\" onclick=\"quickchart('df-c3b7ddca-ca04-47bb-8aa6-3925f98df2ec')\"\n",
              "            title=\"Suggest charts.\"\n",
              "            style=\"display:none;\">\n",
              "\n",
              "<svg xmlns=\"http://www.w3.org/2000/svg\" height=\"24px\"viewBox=\"0 0 24 24\"\n",
              "     width=\"24px\">\n",
              "    <g>\n",
              "        <path d=\"M19 3H5c-1.1 0-2 .9-2 2v14c0 1.1.9 2 2 2h14c1.1 0 2-.9 2-2V5c0-1.1-.9-2-2-2zM9 17H7v-7h2v7zm4 0h-2V7h2v10zm4 0h-2v-4h2v4z\"/>\n",
              "    </g>\n",
              "</svg>\n",
              "  </button>\n",
              "\n",
              "<style>\n",
              "  .colab-df-quickchart {\n",
              "      --bg-color: #E8F0FE;\n",
              "      --fill-color: #1967D2;\n",
              "      --hover-bg-color: #E2EBFA;\n",
              "      --hover-fill-color: #174EA6;\n",
              "      --disabled-fill-color: #AAA;\n",
              "      --disabled-bg-color: #DDD;\n",
              "  }\n",
              "\n",
              "  [theme=dark] .colab-df-quickchart {\n",
              "      --bg-color: #3B4455;\n",
              "      --fill-color: #D2E3FC;\n",
              "      --hover-bg-color: #434B5C;\n",
              "      --hover-fill-color: #FFFFFF;\n",
              "      --disabled-bg-color: #3B4455;\n",
              "      --disabled-fill-color: #666;\n",
              "  }\n",
              "\n",
              "  .colab-df-quickchart {\n",
              "    background-color: var(--bg-color);\n",
              "    border: none;\n",
              "    border-radius: 50%;\n",
              "    cursor: pointer;\n",
              "    display: none;\n",
              "    fill: var(--fill-color);\n",
              "    height: 32px;\n",
              "    padding: 0;\n",
              "    width: 32px;\n",
              "  }\n",
              "\n",
              "  .colab-df-quickchart:hover {\n",
              "    background-color: var(--hover-bg-color);\n",
              "    box-shadow: 0 1px 2px rgba(60, 64, 67, 0.3), 0 1px 3px 1px rgba(60, 64, 67, 0.15);\n",
              "    fill: var(--button-hover-fill-color);\n",
              "  }\n",
              "\n",
              "  .colab-df-quickchart-complete:disabled,\n",
              "  .colab-df-quickchart-complete:disabled:hover {\n",
              "    background-color: var(--disabled-bg-color);\n",
              "    fill: var(--disabled-fill-color);\n",
              "    box-shadow: none;\n",
              "  }\n",
              "\n",
              "  .colab-df-spinner {\n",
              "    border: 2px solid var(--fill-color);\n",
              "    border-color: transparent;\n",
              "    border-bottom-color: var(--fill-color);\n",
              "    animation:\n",
              "      spin 1s steps(1) infinite;\n",
              "  }\n",
              "\n",
              "  @keyframes spin {\n",
              "    0% {\n",
              "      border-color: transparent;\n",
              "      border-bottom-color: var(--fill-color);\n",
              "      border-left-color: var(--fill-color);\n",
              "    }\n",
              "    20% {\n",
              "      border-color: transparent;\n",
              "      border-left-color: var(--fill-color);\n",
              "      border-top-color: var(--fill-color);\n",
              "    }\n",
              "    30% {\n",
              "      border-color: transparent;\n",
              "      border-left-color: var(--fill-color);\n",
              "      border-top-color: var(--fill-color);\n",
              "      border-right-color: var(--fill-color);\n",
              "    }\n",
              "    40% {\n",
              "      border-color: transparent;\n",
              "      border-right-color: var(--fill-color);\n",
              "      border-top-color: var(--fill-color);\n",
              "    }\n",
              "    60% {\n",
              "      border-color: transparent;\n",
              "      border-right-color: var(--fill-color);\n",
              "    }\n",
              "    80% {\n",
              "      border-color: transparent;\n",
              "      border-right-color: var(--fill-color);\n",
              "      border-bottom-color: var(--fill-color);\n",
              "    }\n",
              "    90% {\n",
              "      border-color: transparent;\n",
              "      border-bottom-color: var(--fill-color);\n",
              "    }\n",
              "  }\n",
              "</style>\n",
              "\n",
              "  <script>\n",
              "    async function quickchart(key) {\n",
              "      const quickchartButtonEl =\n",
              "        document.querySelector('#' + key + ' button');\n",
              "      quickchartButtonEl.disabled = true;  // To prevent multiple clicks.\n",
              "      quickchartButtonEl.classList.add('colab-df-spinner');\n",
              "      try {\n",
              "        const charts = await google.colab.kernel.invokeFunction(\n",
              "            'suggestCharts', [key], {});\n",
              "      } catch (error) {\n",
              "        console.error('Error during call to suggestCharts:', error);\n",
              "      }\n",
              "      quickchartButtonEl.classList.remove('colab-df-spinner');\n",
              "      quickchartButtonEl.classList.add('colab-df-quickchart-complete');\n",
              "    }\n",
              "    (() => {\n",
              "      let quickchartButtonEl =\n",
              "        document.querySelector('#df-c3b7ddca-ca04-47bb-8aa6-3925f98df2ec button');\n",
              "      quickchartButtonEl.style.display =\n",
              "        google.colab.kernel.accessAllowed ? 'block' : 'none';\n",
              "    })();\n",
              "  </script>\n",
              "</div>\n",
              "    </div>\n",
              "  </div>\n"
            ],
            "text/plain": [
              "                    max  min       mean  median\n",
              "DIRETOR                                        \n",
              "CLIENTE E SALES      57   18  34.821782    33.0\n",
              "CLOUD & TECHNOLOGY   53   19  33.681159    32.0\n",
              "CLOUD PORTIFOLIO     68   18  35.735562    35.0\n",
              "FINANCE              49   22  32.125000    31.0\n",
              "JURIDICAL            34   34  34.000000    34.0\n",
              "P&C                  53   18  31.100000    31.5\n",
              "SALES                48   27  34.100000    32.5\n",
              "TAKODA               56   20  34.935484    33.0\n",
              "TECHFIN              45   18  32.300000    32.0\n",
              "TREASURY             37   20  28.750000    29.0"
            ]
          },
          "execution_count": 64,
          "metadata": {},
          "output_type": "execute_result"
        }
      ],
      "source": [
        "Analise_Demitidos.groupby(['DIRETOR'])['IDADE'].agg(['max','min','mean','median'])"
      ]
    },
    {
      "cell_type": "code",
      "execution_count": 81,
      "metadata": {
        "colab": {
          "base_uri": "https://localhost:8080/",
          "height": 449
        },
        "id": "kndmYpVXmIsw",
        "outputId": "f9f0b516-e7c5-4cda-bd0a-a7363709317c"
      },
      "outputs": [
        {
          "name": "stderr",
          "output_type": "stream",
          "text": [
            "<ipython-input-81-902ff804f8b0>:1: FutureWarning: The default value of numeric_only in DataFrameGroupBy.sum is deprecated. In a future version, numeric_only will default to False. Either specify numeric_only or select only columns which should be valid for the function.\n",
            "  Analise_Motivos=Analise_Demitidos[['DIRETOR','CARREIRA','DESENVOLVIMENTO PROFISSIONAL','REMUNERAÇÃO','BENEFÍCIOS','CLIMA','CULTURA','BEM ESTAR','OUTROS']].groupby(['DIRETOR']).sum()\n"
          ]
        },
        {
          "data": {
            "text/html": [
              "\n",
              "  <div id=\"df-3f447994-ee3e-4132-a878-c8179ea941fd\" class=\"colab-df-container\">\n",
              "    <div>\n",
              "<style scoped>\n",
              "    .dataframe tbody tr th:only-of-type {\n",
              "        vertical-align: middle;\n",
              "    }\n",
              "\n",
              "    .dataframe tbody tr th {\n",
              "        vertical-align: top;\n",
              "    }\n",
              "\n",
              "    .dataframe thead th {\n",
              "        text-align: right;\n",
              "    }\n",
              "</style>\n",
              "<table border=\"1\" class=\"dataframe\">\n",
              "  <thead>\n",
              "    <tr style=\"text-align: right;\">\n",
              "      <th></th>\n",
              "      <th>CARREIRA</th>\n",
              "      <th>DESENVOLVIMENTO PROFISSIONAL</th>\n",
              "      <th>REMUNERAÇÃO</th>\n",
              "      <th>BENEFÍCIOS</th>\n",
              "      <th>CLIMA</th>\n",
              "      <th>CULTURA</th>\n",
              "      <th>OUTROS</th>\n",
              "    </tr>\n",
              "    <tr>\n",
              "      <th>DIRETOR</th>\n",
              "      <th></th>\n",
              "      <th></th>\n",
              "      <th></th>\n",
              "      <th></th>\n",
              "      <th></th>\n",
              "      <th></th>\n",
              "      <th></th>\n",
              "    </tr>\n",
              "  </thead>\n",
              "  <tbody>\n",
              "    <tr>\n",
              "      <th>CLIENTE E SALES</th>\n",
              "      <td>53.0</td>\n",
              "      <td>69.0</td>\n",
              "      <td>50.0</td>\n",
              "      <td>65.0</td>\n",
              "      <td>41.0</td>\n",
              "      <td>41.0</td>\n",
              "      <td>40.0</td>\n",
              "    </tr>\n",
              "    <tr>\n",
              "      <th>CLOUD &amp; TECHNOLOGY</th>\n",
              "      <td>42.0</td>\n",
              "      <td>57.0</td>\n",
              "      <td>30.0</td>\n",
              "      <td>50.0</td>\n",
              "      <td>31.0</td>\n",
              "      <td>35.0</td>\n",
              "      <td>28.0</td>\n",
              "    </tr>\n",
              "    <tr>\n",
              "      <th>CLOUD PORTIFOLIO</th>\n",
              "      <td>303.0</td>\n",
              "      <td>419.0</td>\n",
              "      <td>315.0</td>\n",
              "      <td>434.0</td>\n",
              "      <td>287.0</td>\n",
              "      <td>259.0</td>\n",
              "      <td>266.0</td>\n",
              "    </tr>\n",
              "    <tr>\n",
              "      <th>FINANCE</th>\n",
              "      <td>7.0</td>\n",
              "      <td>7.0</td>\n",
              "      <td>3.0</td>\n",
              "      <td>3.0</td>\n",
              "      <td>7.0</td>\n",
              "      <td>2.0</td>\n",
              "      <td>4.0</td>\n",
              "    </tr>\n",
              "    <tr>\n",
              "      <th>JURIDICAL</th>\n",
              "      <td>1.0</td>\n",
              "      <td>1.0</td>\n",
              "      <td>1.0</td>\n",
              "      <td>1.0</td>\n",
              "      <td>0.0</td>\n",
              "      <td>0.0</td>\n",
              "      <td>0.0</td>\n",
              "    </tr>\n",
              "    <tr>\n",
              "      <th>P&amp;C</th>\n",
              "      <td>11.0</td>\n",
              "      <td>21.0</td>\n",
              "      <td>12.0</td>\n",
              "      <td>23.0</td>\n",
              "      <td>20.0</td>\n",
              "      <td>12.0</td>\n",
              "      <td>14.0</td>\n",
              "    </tr>\n",
              "    <tr>\n",
              "      <th>SALES</th>\n",
              "      <td>5.0</td>\n",
              "      <td>10.0</td>\n",
              "      <td>6.0</td>\n",
              "      <td>8.0</td>\n",
              "      <td>3.0</td>\n",
              "      <td>7.0</td>\n",
              "      <td>6.0</td>\n",
              "    </tr>\n",
              "    <tr>\n",
              "      <th>TAKODA</th>\n",
              "      <td>14.0</td>\n",
              "      <td>23.0</td>\n",
              "      <td>13.0</td>\n",
              "      <td>23.0</td>\n",
              "      <td>16.0</td>\n",
              "      <td>15.0</td>\n",
              "      <td>19.0</td>\n",
              "    </tr>\n",
              "    <tr>\n",
              "      <th>TECHFIN</th>\n",
              "      <td>5.0</td>\n",
              "      <td>8.0</td>\n",
              "      <td>6.0</td>\n",
              "      <td>7.0</td>\n",
              "      <td>3.0</td>\n",
              "      <td>4.0</td>\n",
              "      <td>4.0</td>\n",
              "    </tr>\n",
              "    <tr>\n",
              "      <th>TREASURY</th>\n",
              "      <td>2.0</td>\n",
              "      <td>3.0</td>\n",
              "      <td>1.0</td>\n",
              "      <td>2.0</td>\n",
              "      <td>2.0</td>\n",
              "      <td>3.0</td>\n",
              "      <td>1.0</td>\n",
              "    </tr>\n",
              "  </tbody>\n",
              "</table>\n",
              "</div>\n",
              "    <div class=\"colab-df-buttons\">\n",
              "\n",
              "  <div class=\"colab-df-container\">\n",
              "    <button class=\"colab-df-convert\" onclick=\"convertToInteractive('df-3f447994-ee3e-4132-a878-c8179ea941fd')\"\n",
              "            title=\"Convert this dataframe to an interactive table.\"\n",
              "            style=\"display:none;\">\n",
              "\n",
              "  <svg xmlns=\"http://www.w3.org/2000/svg\" height=\"24px\" viewBox=\"0 -960 960 960\">\n",
              "    <path d=\"M120-120v-720h720v720H120Zm60-500h600v-160H180v160Zm220 220h160v-160H400v160Zm0 220h160v-160H400v160ZM180-400h160v-160H180v160Zm440 0h160v-160H620v160ZM180-180h160v-160H180v160Zm440 0h160v-160H620v160Z\"/>\n",
              "  </svg>\n",
              "    </button>\n",
              "\n",
              "  <style>\n",
              "    .colab-df-container {\n",
              "      display:flex;\n",
              "      gap: 12px;\n",
              "    }\n",
              "\n",
              "    .colab-df-convert {\n",
              "      background-color: #E8F0FE;\n",
              "      border: none;\n",
              "      border-radius: 50%;\n",
              "      cursor: pointer;\n",
              "      display: none;\n",
              "      fill: #1967D2;\n",
              "      height: 32px;\n",
              "      padding: 0 0 0 0;\n",
              "      width: 32px;\n",
              "    }\n",
              "\n",
              "    .colab-df-convert:hover {\n",
              "      background-color: #E2EBFA;\n",
              "      box-shadow: 0px 1px 2px rgba(60, 64, 67, 0.3), 0px 1px 3px 1px rgba(60, 64, 67, 0.15);\n",
              "      fill: #174EA6;\n",
              "    }\n",
              "\n",
              "    .colab-df-buttons div {\n",
              "      margin-bottom: 4px;\n",
              "    }\n",
              "\n",
              "    [theme=dark] .colab-df-convert {\n",
              "      background-color: #3B4455;\n",
              "      fill: #D2E3FC;\n",
              "    }\n",
              "\n",
              "    [theme=dark] .colab-df-convert:hover {\n",
              "      background-color: #434B5C;\n",
              "      box-shadow: 0px 1px 3px 1px rgba(0, 0, 0, 0.15);\n",
              "      filter: drop-shadow(0px 1px 2px rgba(0, 0, 0, 0.3));\n",
              "      fill: #FFFFFF;\n",
              "    }\n",
              "  </style>\n",
              "\n",
              "    <script>\n",
              "      const buttonEl =\n",
              "        document.querySelector('#df-3f447994-ee3e-4132-a878-c8179ea941fd button.colab-df-convert');\n",
              "      buttonEl.style.display =\n",
              "        google.colab.kernel.accessAllowed ? 'block' : 'none';\n",
              "\n",
              "      async function convertToInteractive(key) {\n",
              "        const element = document.querySelector('#df-3f447994-ee3e-4132-a878-c8179ea941fd');\n",
              "        const dataTable =\n",
              "          await google.colab.kernel.invokeFunction('convertToInteractive',\n",
              "                                                    [key], {});\n",
              "        if (!dataTable) return;\n",
              "\n",
              "        const docLinkHtml = 'Like what you see? Visit the ' +\n",
              "          '<a target=\"_blank\" href=https://colab.research.google.com/notebooks/data_table.ipynb>data table notebook</a>'\n",
              "          + ' to learn more about interactive tables.';\n",
              "        element.innerHTML = '';\n",
              "        dataTable['output_type'] = 'display_data';\n",
              "        await google.colab.output.renderOutput(dataTable, element);\n",
              "        const docLink = document.createElement('div');\n",
              "        docLink.innerHTML = docLinkHtml;\n",
              "        element.appendChild(docLink);\n",
              "      }\n",
              "    </script>\n",
              "  </div>\n",
              "\n",
              "\n",
              "<div id=\"df-fa9671f1-a01f-472e-8504-8bcfac6811d4\">\n",
              "  <button class=\"colab-df-quickchart\" onclick=\"quickchart('df-fa9671f1-a01f-472e-8504-8bcfac6811d4')\"\n",
              "            title=\"Suggest charts.\"\n",
              "            style=\"display:none;\">\n",
              "\n",
              "<svg xmlns=\"http://www.w3.org/2000/svg\" height=\"24px\"viewBox=\"0 0 24 24\"\n",
              "     width=\"24px\">\n",
              "    <g>\n",
              "        <path d=\"M19 3H5c-1.1 0-2 .9-2 2v14c0 1.1.9 2 2 2h14c1.1 0 2-.9 2-2V5c0-1.1-.9-2-2-2zM9 17H7v-7h2v7zm4 0h-2V7h2v10zm4 0h-2v-4h2v4z\"/>\n",
              "    </g>\n",
              "</svg>\n",
              "  </button>\n",
              "\n",
              "<style>\n",
              "  .colab-df-quickchart {\n",
              "      --bg-color: #E8F0FE;\n",
              "      --fill-color: #1967D2;\n",
              "      --hover-bg-color: #E2EBFA;\n",
              "      --hover-fill-color: #174EA6;\n",
              "      --disabled-fill-color: #AAA;\n",
              "      --disabled-bg-color: #DDD;\n",
              "  }\n",
              "\n",
              "  [theme=dark] .colab-df-quickchart {\n",
              "      --bg-color: #3B4455;\n",
              "      --fill-color: #D2E3FC;\n",
              "      --hover-bg-color: #434B5C;\n",
              "      --hover-fill-color: #FFFFFF;\n",
              "      --disabled-bg-color: #3B4455;\n",
              "      --disabled-fill-color: #666;\n",
              "  }\n",
              "\n",
              "  .colab-df-quickchart {\n",
              "    background-color: var(--bg-color);\n",
              "    border: none;\n",
              "    border-radius: 50%;\n",
              "    cursor: pointer;\n",
              "    display: none;\n",
              "    fill: var(--fill-color);\n",
              "    height: 32px;\n",
              "    padding: 0;\n",
              "    width: 32px;\n",
              "  }\n",
              "\n",
              "  .colab-df-quickchart:hover {\n",
              "    background-color: var(--hover-bg-color);\n",
              "    box-shadow: 0 1px 2px rgba(60, 64, 67, 0.3), 0 1px 3px 1px rgba(60, 64, 67, 0.15);\n",
              "    fill: var(--button-hover-fill-color);\n",
              "  }\n",
              "\n",
              "  .colab-df-quickchart-complete:disabled,\n",
              "  .colab-df-quickchart-complete:disabled:hover {\n",
              "    background-color: var(--disabled-bg-color);\n",
              "    fill: var(--disabled-fill-color);\n",
              "    box-shadow: none;\n",
              "  }\n",
              "\n",
              "  .colab-df-spinner {\n",
              "    border: 2px solid var(--fill-color);\n",
              "    border-color: transparent;\n",
              "    border-bottom-color: var(--fill-color);\n",
              "    animation:\n",
              "      spin 1s steps(1) infinite;\n",
              "  }\n",
              "\n",
              "  @keyframes spin {\n",
              "    0% {\n",
              "      border-color: transparent;\n",
              "      border-bottom-color: var(--fill-color);\n",
              "      border-left-color: var(--fill-color);\n",
              "    }\n",
              "    20% {\n",
              "      border-color: transparent;\n",
              "      border-left-color: var(--fill-color);\n",
              "      border-top-color: var(--fill-color);\n",
              "    }\n",
              "    30% {\n",
              "      border-color: transparent;\n",
              "      border-left-color: var(--fill-color);\n",
              "      border-top-color: var(--fill-color);\n",
              "      border-right-color: var(--fill-color);\n",
              "    }\n",
              "    40% {\n",
              "      border-color: transparent;\n",
              "      border-right-color: var(--fill-color);\n",
              "      border-top-color: var(--fill-color);\n",
              "    }\n",
              "    60% {\n",
              "      border-color: transparent;\n",
              "      border-right-color: var(--fill-color);\n",
              "    }\n",
              "    80% {\n",
              "      border-color: transparent;\n",
              "      border-right-color: var(--fill-color);\n",
              "      border-bottom-color: var(--fill-color);\n",
              "    }\n",
              "    90% {\n",
              "      border-color: transparent;\n",
              "      border-bottom-color: var(--fill-color);\n",
              "    }\n",
              "  }\n",
              "</style>\n",
              "\n",
              "  <script>\n",
              "    async function quickchart(key) {\n",
              "      const quickchartButtonEl =\n",
              "        document.querySelector('#' + key + ' button');\n",
              "      quickchartButtonEl.disabled = true;  // To prevent multiple clicks.\n",
              "      quickchartButtonEl.classList.add('colab-df-spinner');\n",
              "      try {\n",
              "        const charts = await google.colab.kernel.invokeFunction(\n",
              "            'suggestCharts', [key], {});\n",
              "      } catch (error) {\n",
              "        console.error('Error during call to suggestCharts:', error);\n",
              "      }\n",
              "      quickchartButtonEl.classList.remove('colab-df-spinner');\n",
              "      quickchartButtonEl.classList.add('colab-df-quickchart-complete');\n",
              "    }\n",
              "    (() => {\n",
              "      let quickchartButtonEl =\n",
              "        document.querySelector('#df-fa9671f1-a01f-472e-8504-8bcfac6811d4 button');\n",
              "      quickchartButtonEl.style.display =\n",
              "        google.colab.kernel.accessAllowed ? 'block' : 'none';\n",
              "    })();\n",
              "  </script>\n",
              "</div>\n",
              "    </div>\n",
              "  </div>\n"
            ],
            "text/plain": [
              "                    CARREIRA  DESENVOLVIMENTO PROFISSIONAL  REMUNERAÇÃO  \\\n",
              "DIRETOR                                                                   \n",
              "CLIENTE E SALES         53.0                          69.0         50.0   \n",
              "CLOUD & TECHNOLOGY      42.0                          57.0         30.0   \n",
              "CLOUD PORTIFOLIO       303.0                         419.0        315.0   \n",
              "FINANCE                  7.0                           7.0          3.0   \n",
              "JURIDICAL                1.0                           1.0          1.0   \n",
              "P&C                     11.0                          21.0         12.0   \n",
              "SALES                    5.0                          10.0          6.0   \n",
              "TAKODA                  14.0                          23.0         13.0   \n",
              "TECHFIN                  5.0                           8.0          6.0   \n",
              "TREASURY                 2.0                           3.0          1.0   \n",
              "\n",
              "                    BENEFÍCIOS  CLIMA  CULTURA  OUTROS  \n",
              "DIRETOR                                                 \n",
              "CLIENTE E SALES           65.0   41.0     41.0    40.0  \n",
              "CLOUD & TECHNOLOGY        50.0   31.0     35.0    28.0  \n",
              "CLOUD PORTIFOLIO         434.0  287.0    259.0   266.0  \n",
              "FINANCE                    3.0    7.0      2.0     4.0  \n",
              "JURIDICAL                  1.0    0.0      0.0     0.0  \n",
              "P&C                       23.0   20.0     12.0    14.0  \n",
              "SALES                      8.0    3.0      7.0     6.0  \n",
              "TAKODA                    23.0   16.0     15.0    19.0  \n",
              "TECHFIN                    7.0    3.0      4.0     4.0  \n",
              "TREASURY                   2.0    2.0      3.0     1.0  "
            ]
          },
          "metadata": {},
          "output_type": "display_data"
        }
      ],
      "source": [
        "Analise_Motivos=Analise_Demitidos[['DIRETOR','CARREIRA','DESENVOLVIMENTO PROFISSIONAL','REMUNERAÇÃO','BENEFÍCIOS','CLIMA','CULTURA','BEM ESTAR','OUTROS']].groupby(['DIRETOR']).sum()\n",
        "display(Analise_Motivos)"
      ]
    },
    {
      "cell_type": "code",
      "execution_count": 82,
      "metadata": {
        "colab": {
          "base_uri": "https://localhost:8080/",
          "height": 269
        },
        "id": "f1e0wGmVnish",
        "outputId": "e3738bac-f0a9-41a5-f5c4-9d7c0b3291d2"
      },
      "outputs": [
        {
          "data": {
            "text/html": [
              "\n",
              "  <div id=\"df-895017f6-38cd-48d3-9c66-b87e9d2a1eda\" class=\"colab-df-container\">\n",
              "    <div>\n",
              "<style scoped>\n",
              "    .dataframe tbody tr th:only-of-type {\n",
              "        vertical-align: middle;\n",
              "    }\n",
              "\n",
              "    .dataframe tbody tr th {\n",
              "        vertical-align: top;\n",
              "    }\n",
              "\n",
              "    .dataframe thead th {\n",
              "        text-align: right;\n",
              "    }\n",
              "</style>\n",
              "<table border=\"1\" class=\"dataframe\">\n",
              "  <thead>\n",
              "    <tr style=\"text-align: right;\">\n",
              "      <th></th>\n",
              "      <th>CARREIRA</th>\n",
              "      <th>DESENVOLVIMENTO PROFISSIONAL</th>\n",
              "      <th>REMUNERAÇÃO</th>\n",
              "      <th>BENEFÍCIOS</th>\n",
              "      <th>CLIMA</th>\n",
              "      <th>CULTURA</th>\n",
              "      <th>OUTROS</th>\n",
              "    </tr>\n",
              "  </thead>\n",
              "  <tbody>\n",
              "    <tr>\n",
              "      <th>CARREIRA</th>\n",
              "      <td>1.000000</td>\n",
              "      <td>0.999729</td>\n",
              "      <td>0.998925</td>\n",
              "      <td>0.999052</td>\n",
              "      <td>0.998129</td>\n",
              "      <td>0.999460</td>\n",
              "      <td>0.998409</td>\n",
              "    </tr>\n",
              "    <tr>\n",
              "      <th>DESENVOLVIMENTO PROFISSIONAL</th>\n",
              "      <td>0.999729</td>\n",
              "      <td>1.000000</td>\n",
              "      <td>0.999216</td>\n",
              "      <td>0.999707</td>\n",
              "      <td>0.998954</td>\n",
              "      <td>0.999899</td>\n",
              "      <td>0.999211</td>\n",
              "    </tr>\n",
              "    <tr>\n",
              "      <th>REMUNERAÇÃO</th>\n",
              "      <td>0.998925</td>\n",
              "      <td>0.999216</td>\n",
              "      <td>1.000000</td>\n",
              "      <td>0.999558</td>\n",
              "      <td>0.998917</td>\n",
              "      <td>0.999077</td>\n",
              "      <td>0.999349</td>\n",
              "    </tr>\n",
              "    <tr>\n",
              "      <th>BENEFÍCIOS</th>\n",
              "      <td>0.999052</td>\n",
              "      <td>0.999707</td>\n",
              "      <td>0.999558</td>\n",
              "      <td>1.000000</td>\n",
              "      <td>0.999532</td>\n",
              "      <td>0.999700</td>\n",
              "      <td>0.999704</td>\n",
              "    </tr>\n",
              "    <tr>\n",
              "      <th>CLIMA</th>\n",
              "      <td>0.998129</td>\n",
              "      <td>0.998954</td>\n",
              "      <td>0.998917</td>\n",
              "      <td>0.999532</td>\n",
              "      <td>1.000000</td>\n",
              "      <td>0.998789</td>\n",
              "      <td>0.999486</td>\n",
              "    </tr>\n",
              "    <tr>\n",
              "      <th>CULTURA</th>\n",
              "      <td>0.999460</td>\n",
              "      <td>0.999899</td>\n",
              "      <td>0.999077</td>\n",
              "      <td>0.999700</td>\n",
              "      <td>0.998789</td>\n",
              "      <td>1.000000</td>\n",
              "      <td>0.999248</td>\n",
              "    </tr>\n",
              "    <tr>\n",
              "      <th>OUTROS</th>\n",
              "      <td>0.998409</td>\n",
              "      <td>0.999211</td>\n",
              "      <td>0.999349</td>\n",
              "      <td>0.999704</td>\n",
              "      <td>0.999486</td>\n",
              "      <td>0.999248</td>\n",
              "      <td>1.000000</td>\n",
              "    </tr>\n",
              "  </tbody>\n",
              "</table>\n",
              "</div>\n",
              "    <div class=\"colab-df-buttons\">\n",
              "\n",
              "  <div class=\"colab-df-container\">\n",
              "    <button class=\"colab-df-convert\" onclick=\"convertToInteractive('df-895017f6-38cd-48d3-9c66-b87e9d2a1eda')\"\n",
              "            title=\"Convert this dataframe to an interactive table.\"\n",
              "            style=\"display:none;\">\n",
              "\n",
              "  <svg xmlns=\"http://www.w3.org/2000/svg\" height=\"24px\" viewBox=\"0 -960 960 960\">\n",
              "    <path d=\"M120-120v-720h720v720H120Zm60-500h600v-160H180v160Zm220 220h160v-160H400v160Zm0 220h160v-160H400v160ZM180-400h160v-160H180v160Zm440 0h160v-160H620v160ZM180-180h160v-160H180v160Zm440 0h160v-160H620v160Z\"/>\n",
              "  </svg>\n",
              "    </button>\n",
              "\n",
              "  <style>\n",
              "    .colab-df-container {\n",
              "      display:flex;\n",
              "      gap: 12px;\n",
              "    }\n",
              "\n",
              "    .colab-df-convert {\n",
              "      background-color: #E8F0FE;\n",
              "      border: none;\n",
              "      border-radius: 50%;\n",
              "      cursor: pointer;\n",
              "      display: none;\n",
              "      fill: #1967D2;\n",
              "      height: 32px;\n",
              "      padding: 0 0 0 0;\n",
              "      width: 32px;\n",
              "    }\n",
              "\n",
              "    .colab-df-convert:hover {\n",
              "      background-color: #E2EBFA;\n",
              "      box-shadow: 0px 1px 2px rgba(60, 64, 67, 0.3), 0px 1px 3px 1px rgba(60, 64, 67, 0.15);\n",
              "      fill: #174EA6;\n",
              "    }\n",
              "\n",
              "    .colab-df-buttons div {\n",
              "      margin-bottom: 4px;\n",
              "    }\n",
              "\n",
              "    [theme=dark] .colab-df-convert {\n",
              "      background-color: #3B4455;\n",
              "      fill: #D2E3FC;\n",
              "    }\n",
              "\n",
              "    [theme=dark] .colab-df-convert:hover {\n",
              "      background-color: #434B5C;\n",
              "      box-shadow: 0px 1px 3px 1px rgba(0, 0, 0, 0.15);\n",
              "      filter: drop-shadow(0px 1px 2px rgba(0, 0, 0, 0.3));\n",
              "      fill: #FFFFFF;\n",
              "    }\n",
              "  </style>\n",
              "\n",
              "    <script>\n",
              "      const buttonEl =\n",
              "        document.querySelector('#df-895017f6-38cd-48d3-9c66-b87e9d2a1eda button.colab-df-convert');\n",
              "      buttonEl.style.display =\n",
              "        google.colab.kernel.accessAllowed ? 'block' : 'none';\n",
              "\n",
              "      async function convertToInteractive(key) {\n",
              "        const element = document.querySelector('#df-895017f6-38cd-48d3-9c66-b87e9d2a1eda');\n",
              "        const dataTable =\n",
              "          await google.colab.kernel.invokeFunction('convertToInteractive',\n",
              "                                                    [key], {});\n",
              "        if (!dataTable) return;\n",
              "\n",
              "        const docLinkHtml = 'Like what you see? Visit the ' +\n",
              "          '<a target=\"_blank\" href=https://colab.research.google.com/notebooks/data_table.ipynb>data table notebook</a>'\n",
              "          + ' to learn more about interactive tables.';\n",
              "        element.innerHTML = '';\n",
              "        dataTable['output_type'] = 'display_data';\n",
              "        await google.colab.output.renderOutput(dataTable, element);\n",
              "        const docLink = document.createElement('div');\n",
              "        docLink.innerHTML = docLinkHtml;\n",
              "        element.appendChild(docLink);\n",
              "      }\n",
              "    </script>\n",
              "  </div>\n",
              "\n",
              "\n",
              "<div id=\"df-6ac66e3e-9918-4d89-a6e7-4c66b6665b46\">\n",
              "  <button class=\"colab-df-quickchart\" onclick=\"quickchart('df-6ac66e3e-9918-4d89-a6e7-4c66b6665b46')\"\n",
              "            title=\"Suggest charts.\"\n",
              "            style=\"display:none;\">\n",
              "\n",
              "<svg xmlns=\"http://www.w3.org/2000/svg\" height=\"24px\"viewBox=\"0 0 24 24\"\n",
              "     width=\"24px\">\n",
              "    <g>\n",
              "        <path d=\"M19 3H5c-1.1 0-2 .9-2 2v14c0 1.1.9 2 2 2h14c1.1 0 2-.9 2-2V5c0-1.1-.9-2-2-2zM9 17H7v-7h2v7zm4 0h-2V7h2v10zm4 0h-2v-4h2v4z\"/>\n",
              "    </g>\n",
              "</svg>\n",
              "  </button>\n",
              "\n",
              "<style>\n",
              "  .colab-df-quickchart {\n",
              "      --bg-color: #E8F0FE;\n",
              "      --fill-color: #1967D2;\n",
              "      --hover-bg-color: #E2EBFA;\n",
              "      --hover-fill-color: #174EA6;\n",
              "      --disabled-fill-color: #AAA;\n",
              "      --disabled-bg-color: #DDD;\n",
              "  }\n",
              "\n",
              "  [theme=dark] .colab-df-quickchart {\n",
              "      --bg-color: #3B4455;\n",
              "      --fill-color: #D2E3FC;\n",
              "      --hover-bg-color: #434B5C;\n",
              "      --hover-fill-color: #FFFFFF;\n",
              "      --disabled-bg-color: #3B4455;\n",
              "      --disabled-fill-color: #666;\n",
              "  }\n",
              "\n",
              "  .colab-df-quickchart {\n",
              "    background-color: var(--bg-color);\n",
              "    border: none;\n",
              "    border-radius: 50%;\n",
              "    cursor: pointer;\n",
              "    display: none;\n",
              "    fill: var(--fill-color);\n",
              "    height: 32px;\n",
              "    padding: 0;\n",
              "    width: 32px;\n",
              "  }\n",
              "\n",
              "  .colab-df-quickchart:hover {\n",
              "    background-color: var(--hover-bg-color);\n",
              "    box-shadow: 0 1px 2px rgba(60, 64, 67, 0.3), 0 1px 3px 1px rgba(60, 64, 67, 0.15);\n",
              "    fill: var(--button-hover-fill-color);\n",
              "  }\n",
              "\n",
              "  .colab-df-quickchart-complete:disabled,\n",
              "  .colab-df-quickchart-complete:disabled:hover {\n",
              "    background-color: var(--disabled-bg-color);\n",
              "    fill: var(--disabled-fill-color);\n",
              "    box-shadow: none;\n",
              "  }\n",
              "\n",
              "  .colab-df-spinner {\n",
              "    border: 2px solid var(--fill-color);\n",
              "    border-color: transparent;\n",
              "    border-bottom-color: var(--fill-color);\n",
              "    animation:\n",
              "      spin 1s steps(1) infinite;\n",
              "  }\n",
              "\n",
              "  @keyframes spin {\n",
              "    0% {\n",
              "      border-color: transparent;\n",
              "      border-bottom-color: var(--fill-color);\n",
              "      border-left-color: var(--fill-color);\n",
              "    }\n",
              "    20% {\n",
              "      border-color: transparent;\n",
              "      border-left-color: var(--fill-color);\n",
              "      border-top-color: var(--fill-color);\n",
              "    }\n",
              "    30% {\n",
              "      border-color: transparent;\n",
              "      border-left-color: var(--fill-color);\n",
              "      border-top-color: var(--fill-color);\n",
              "      border-right-color: var(--fill-color);\n",
              "    }\n",
              "    40% {\n",
              "      border-color: transparent;\n",
              "      border-right-color: var(--fill-color);\n",
              "      border-top-color: var(--fill-color);\n",
              "    }\n",
              "    60% {\n",
              "      border-color: transparent;\n",
              "      border-right-color: var(--fill-color);\n",
              "    }\n",
              "    80% {\n",
              "      border-color: transparent;\n",
              "      border-right-color: var(--fill-color);\n",
              "      border-bottom-color: var(--fill-color);\n",
              "    }\n",
              "    90% {\n",
              "      border-color: transparent;\n",
              "      border-bottom-color: var(--fill-color);\n",
              "    }\n",
              "  }\n",
              "</style>\n",
              "\n",
              "  <script>\n",
              "    async function quickchart(key) {\n",
              "      const quickchartButtonEl =\n",
              "        document.querySelector('#' + key + ' button');\n",
              "      quickchartButtonEl.disabled = true;  // To prevent multiple clicks.\n",
              "      quickchartButtonEl.classList.add('colab-df-spinner');\n",
              "      try {\n",
              "        const charts = await google.colab.kernel.invokeFunction(\n",
              "            'suggestCharts', [key], {});\n",
              "      } catch (error) {\n",
              "        console.error('Error during call to suggestCharts:', error);\n",
              "      }\n",
              "      quickchartButtonEl.classList.remove('colab-df-spinner');\n",
              "      quickchartButtonEl.classList.add('colab-df-quickchart-complete');\n",
              "    }\n",
              "    (() => {\n",
              "      let quickchartButtonEl =\n",
              "        document.querySelector('#df-6ac66e3e-9918-4d89-a6e7-4c66b6665b46 button');\n",
              "      quickchartButtonEl.style.display =\n",
              "        google.colab.kernel.accessAllowed ? 'block' : 'none';\n",
              "    })();\n",
              "  </script>\n",
              "</div>\n",
              "    </div>\n",
              "  </div>\n"
            ],
            "text/plain": [
              "                              CARREIRA  DESENVOLVIMENTO PROFISSIONAL  \\\n",
              "CARREIRA                      1.000000                      0.999729   \n",
              "DESENVOLVIMENTO PROFISSIONAL  0.999729                      1.000000   \n",
              "REMUNERAÇÃO                   0.998925                      0.999216   \n",
              "BENEFÍCIOS                    0.999052                      0.999707   \n",
              "CLIMA                         0.998129                      0.998954   \n",
              "CULTURA                       0.999460                      0.999899   \n",
              "OUTROS                        0.998409                      0.999211   \n",
              "\n",
              "                              REMUNERAÇÃO  BENEFÍCIOS     CLIMA   CULTURA  \\\n",
              "CARREIRA                         0.998925    0.999052  0.998129  0.999460   \n",
              "DESENVOLVIMENTO PROFISSIONAL     0.999216    0.999707  0.998954  0.999899   \n",
              "REMUNERAÇÃO                      1.000000    0.999558  0.998917  0.999077   \n",
              "BENEFÍCIOS                       0.999558    1.000000  0.999532  0.999700   \n",
              "CLIMA                            0.998917    0.999532  1.000000  0.998789   \n",
              "CULTURA                          0.999077    0.999700  0.998789  1.000000   \n",
              "OUTROS                           0.999349    0.999704  0.999486  0.999248   \n",
              "\n",
              "                                OUTROS  \n",
              "CARREIRA                      0.998409  \n",
              "DESENVOLVIMENTO PROFISSIONAL  0.999211  \n",
              "REMUNERAÇÃO                   0.999349  \n",
              "BENEFÍCIOS                    0.999704  \n",
              "CLIMA                         0.999486  \n",
              "CULTURA                       0.999248  \n",
              "OUTROS                        1.000000  "
            ]
          },
          "execution_count": 82,
          "metadata": {},
          "output_type": "execute_result"
        }
      ],
      "source": [
        "Analise_Motivos.corr()"
      ]
    },
    {
      "cell_type": "code",
      "execution_count": 86,
      "metadata": {
        "colab": {
          "base_uri": "https://localhost:8080/"
        },
        "id": "A7JV-UYTuVJE",
        "outputId": "03fe0b8f-e815-4cec-f7b1-0cc2aa501336"
      },
      "outputs": [
        {
          "data": {
            "text/plain": [
              "CARREIRA                        44.3\n",
              "DESENVOLVIMENTO PROFISSIONAL    61.8\n",
              "REMUNERAÇÃO                     43.7\n",
              "BENEFÍCIOS                      61.6\n",
              "CLIMA                           41.0\n",
              "CULTURA                         37.8\n",
              "OUTROS                          38.2\n",
              "dtype: float64"
            ]
          },
          "execution_count": 86,
          "metadata": {},
          "output_type": "execute_result"
        }
      ],
      "source": [
        "Analise_Motivos.mean()"
      ]
    },
    {
      "cell_type": "code",
      "execution_count": 87,
      "metadata": {
        "colab": {
          "base_uri": "https://localhost:8080/"
        },
        "id": "olNC7RHuvYlz",
        "outputId": "d636e544-eb40-4ca8-a4e7-e4e67c33bcba"
      },
      "outputs": [
        {
          "data": {
            "text/plain": [
              "CARREIRA                         8575.344444\n",
              "DESENVOLVIMENTO PROFISSIONAL    16285.733333\n",
              "REMUNERAÇÃO                      9324.900000\n",
              "BENEFÍCIOS                      17591.155556\n",
              "CLIMA                            7658.666667\n",
              "CULTURA                          6238.400000\n",
              "OUTROS                           6574.844444\n",
              "dtype: float64"
            ]
          },
          "execution_count": 87,
          "metadata": {},
          "output_type": "execute_result"
        }
      ],
      "source": [
        "Analise_Motivos.var()"
      ]
    },
    {
      "cell_type": "code",
      "execution_count": 88,
      "metadata": {
        "colab": {
          "base_uri": "https://localhost:8080/"
        },
        "id": "wA9VsABdveLK",
        "outputId": "f66280a6-ddc1-4392-a711-280ac17a8b07"
      },
      "outputs": [
        {
          "data": {
            "text/plain": [
              "CARREIRA                         92.603156\n",
              "DESENVOLVIMENTO PROFISSIONAL    127.615569\n",
              "REMUNERAÇÃO                      96.565522\n",
              "BENEFÍCIOS                      132.631654\n",
              "CLIMA                            87.513808\n",
              "CULTURA                          78.983543\n",
              "OUTROS                           81.085414\n",
              "dtype: float64"
            ]
          },
          "execution_count": 88,
          "metadata": {},
          "output_type": "execute_result"
        }
      ],
      "source": [
        "Analise_Motivos.std()"
      ]
    }
  ],
  "metadata": {
    "colab": {
      "provenance": []
    },
    "kernelspec": {
      "display_name": "Python 3",
      "name": "python3"
    },
    "language_info": {
      "codemirror_mode": {
        "name": "ipython",
        "version": 3
      },
      "file_extension": ".py",
      "mimetype": "text/x-python",
      "name": "python",
      "nbconvert_exporter": "python",
      "pygments_lexer": "ipython3",
      "version": "3.11.5"
    }
  },
  "nbformat": 4,
  "nbformat_minor": 0
}
